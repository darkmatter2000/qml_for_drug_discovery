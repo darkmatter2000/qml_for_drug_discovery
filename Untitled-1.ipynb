{
 "cells": [
  {
   "cell_type": "markdown",
   "id": "59c005a8",
   "metadata": {},
   "source": [
    "# Introduction\n",
    "\n",
    "**Molecular docking** refers to the process of finding the best match between a **ligand** and a **protein**, more specifically, with the **active site** of the protein. The ligand is typically a molecule derived from a drug candidate. The binding between the active site of the protein and the ligand can inhibit or activate certain functions of the protein, serving a therapeutic purpose. Finding the optimal active configuration of the protein-ligand complex is a challenging task due to the extremely large number of possible configurations.\n",
    "\n",
    "In the tutorial [*Molecular Docking via DC-QAOA*](https://nvidia.github.io/cuda-quantum/latest/applications/python/digitized_counterdiabatic_qaoa.html) by NVIDIA CUDA-Q, they propose using a variant of the **Quantum Approximate Optimization Algorithm (QAOA)** to tackle the problem of finding the optimal configuration. This variant is called **DC-QAOA**, where \"DC\" stands for **Digitized-Counterdiabatic**. NVIDIA's implementation is based on the paper [*Molecular Docking via Quantum Approximate Optimization Algorithm*](https://arxiv.org/pdf/2308.04098).\n",
    "\n",
    "In the preprint [*Quantum Computing for Optimizing Aircraft Loading*](https://arxiv.org/abs/2504.01567), I found another quantum optimization algorithm called **Multi-Angle Layered Variational Quantum Eigensolver (MAL-VQE)**. Its structure is quite similar to DC-QAOA, but according to the authors of that paper, MAL-VQE can yield better results compared to standard QAOA.\n",
    "\n",
    "In this notebook, I implement the **MAL-VQE algorithm** for the **molecular docking** problem.\n",
    "\n",
    "I first reproduce the DC-QAOA tutorial provided by NVIDIA CUDA-Q, then adapt it to implement MAL-VQE.\n"
   ]
  },
  {
   "cell_type": "markdown",
   "id": "025803ec",
   "metadata": {},
   "source": [
    "# 1. Molecular docking via DC-QAOA"
   ]
  },
  {
   "cell_type": "code",
   "execution_count": 121,
   "id": "1c7216d4",
   "metadata": {},
   "outputs": [],
   "source": [
    "import cudaq\n",
    "from cudaq import spin\n",
    "import numpy as np"
   ]
  },
  {
   "cell_type": "code",
   "execution_count": 122,
   "id": "affa1f9f",
   "metadata": {},
   "outputs": [
    {
     "name": "stdout",
     "output_type": "stream",
     "text": [
      "Edges: [[0, 1], [0, 2], [0, 4], [0, 5], [1, 2], [1, 3], [1, 5], [2, 3], [2, 4], [3, 4], [3, 5], [4, 5]]\n",
      "Non-edges: [[0, 3], [1, 4], [2, 5]]\n"
     ]
    }
   ],
   "source": [
    "# The two graph inputs from the paper\n",
    "\n",
    "# BIG 1\n",
    "\n",
    "nodes = [0 , 1 , 2, 3, 4, 5]\n",
    "qubit_num = len(nodes)\n",
    "edges = [[0, 1], [0, 2], [0, 4], [0, 5], [1, 2], [1, 3], [1, 5], [2, 3], [2, 4],\n",
    "         [3, 4], [3, 5], [4, 5]]\n",
    "\n",
    "non_edges = [\n",
    "    [u, v] for u in nodes for v in nodes if u < v and [u, v] not in edges\n",
    "]\n",
    "\n",
    "print('Edges:', edges)\n",
    "print('Non-edges:', non_edges)\n",
    "\n",
    "weights = [0.6686, 0.6686, 0.6686, 0.1453, 0.1453, 0.1453]\n",
    "penalty = 6.0\n",
    "num_layers = 3\n",
    "\n",
    "mal_num_layers = 1\n"
   ]
  },
  {
   "cell_type": "code",
   "execution_count": 123,
   "id": "5d8fd356",
   "metadata": {},
   "outputs": [],
   "source": [
    "# Generate the Hamiltonian\n",
    "\n",
    "# Generate the Hamiltonian\n",
    "def ham_clique(penalty, nodes, weights, non_edges) -> cudaq.SpinOperator:\n",
    "\n",
    "    spin_ham = 0\n",
    "    for wt, node in zip(weights, nodes):\n",
    "        #print(wt,node)\n",
    "        spin_ham += 0.5 * wt * spin.z(node)\n",
    "        spin_ham -= 0.5 * wt * spin.i(node)\n",
    "\n",
    "    for non_edge in non_edges:\n",
    "        u, v = (non_edge[0], non_edge[1])\n",
    "        #print(u,v)\n",
    "        spin_ham += penalty / 4.0 * (spin.z(u) * spin.z(v) - spin.z(u) -\n",
    "                                     spin.z(v) + spin.i(u) * spin.i(v))\n",
    "\n",
    "    return spin_ham\n",
    "    # for wt, node in zip(weights, nodes):\n",
    "    #     term1 = cudaq.SpinOperator(0.5 * wt * spin.z(node))\n",
    "    #     term2 = cudaq.SpinOperator(0.5 * wt * spin.i(node))\n",
    "    #     spin_ham += term1 - term2\n",
    "\n",
    "    # for u, v in non_edges:\n",
    "    #     term1 = cudaq.SpinOperator(penalty / 4.0 * spin.z(u) * spin.z(v))\n",
    "    #     term2 = cudaq.SpinOperator(penalty / 4.0 * spin.z(u))\n",
    "    #     term3 = cudaq.SpinOperator(penalty / 4.0 * spin.z(v))\n",
    "    #     term4 = cudaq.SpinOperator(penalty / 4.0 * spin.i(u) * spin.i(v))\n",
    "    #     spin_ham += term1 - term2 - term3 + term4\n",
    "    \n",
    "   # return spin_ham"
   ]
  },
  {
   "cell_type": "code",
   "execution_count": 124,
   "id": "e95728d4",
   "metadata": {},
   "outputs": [
    {
     "name": "stdout",
     "output_type": "stream",
     "text": [
      "(0+0i) + (-1.1657+0i) * Z0 + (-0.3343+0i) * I0 + (-1.1657+0i) * Z1 + (-0.3343+0i) * I1 + (-1.1657+0i) * Z2 + (-0.3343+0i) * I2 + (-1.42735+0i) * Z3 + (-0.07265+0i) * I3 + (-1.42735+0i) * Z4 + (-0.07265+0i) * I4 + (-1.42735+0i) * Z5 + (-0.07265+0i) * I5 + (1.5+0i) * Z0Z3 + (1.5+0i) * I0I3 + (1.5+0i) * Z1Z4 + (1.5+0i) * I1I4 + (1.5+0i) * Z2Z5 + (1.5+0i) * I2I5\n",
      "[0j, (-1.1657+0j), (-0.3343-0j), (-1.1657+0j), (-0.3343-0j), (-1.1657+0j), (-0.3343-0j), (-1.42735+0j), (-0.07265-0j), (-1.42735+0j), (-0.07265-0j), (-1.42735+0j), (-0.07265-0j), (1.5+0j), (1.5+0j), (1.5+0j), (1.5+0j), (1.5+0j), (1.5+0j)]\n",
      "['IIIIII', 'ZIIIII', 'IIIIII', 'IZIIII', 'IIIIII', 'IIZIII', 'IIIIII', 'IIIZII', 'IIIIII', 'IIIIZI', 'IIIIII', 'IIIIIZ', 'IIIIII', 'ZIIZII', 'IIIIII', 'IZIIZI', 'IIIIII', 'IIZIIZ', 'IIIIII']\n"
     ]
    }
   ],
   "source": [
    "# collect coefficients from a spin operator so we can pass them to a kernel\n",
    "\n",
    "def term_coefficients(ham: cudaq.SpinOperator) -> list[complex]:\n",
    "    result = []\n",
    "    for term in ham:\n",
    "        result.append(term.evaluate_coefficient())\n",
    "        #result.append(term.get_coefficient())\n",
    "    return result\n",
    "\n",
    "    # collect Pauli words from a spin operator so we can pass them to a kernel\n",
    "\n",
    "\n",
    "def term_words(ham: cudaq.SpinOperator) -> list[str]:\n",
    "    # Our kernel uses these words to apply exp_pauli to the entire state\n",
    "    # we hence ensure that each pauli word covers the entire space.\n",
    "\n",
    "    result = []\n",
    "    for term in ham:\n",
    "        result.append(term.get_pauli_word(qubit_num))\n",
    "    return result\n",
    "\n",
    "\n",
    "ham = ham_clique(penalty, nodes, weights, non_edges)\n",
    "print(ham)\n",
    "\n",
    "coef = term_coefficients(ham)\n",
    "words = term_words(ham)\n",
    "\n",
    "print(term_coefficients(ham))\n",
    "print(term_words(ham))"
   ]
  },
  {
   "cell_type": "code",
   "execution_count": 125,
   "id": "e4acfdf1",
   "metadata": {},
   "outputs": [],
   "source": [
    "@cudaq.kernel\n",
    "def dc_qaoa(qubit_num:int , num_layers:int , thetas:list[float],\\\n",
    "            coef:list[complex] , words:list[cudaq.pauli_word]):\n",
    "    \n",
    "    qubits = cudaq.qvector(qubit_num)\n",
    "    h(qubits)\n",
    "\n",
    "    count = 0\n",
    "    for p in range(num_layers):\n",
    "\n",
    "        for i in range(len(coef)):\n",
    "            exp_pauli(thetas[count] * coef[i].real , qubits , words[i])\n",
    "            count += 1\n",
    "\n",
    "        for j in range(qubit_num):\n",
    "            rx(thetas[count] , qubits[j])\n",
    "            count += 1\n",
    "\n",
    "        # Comment out this loop for conventional QAOA\n",
    "        for k in range(qubit_num):\n",
    "            ry(thetas[count] , qubits[k])\n",
    "            count += 1\n",
    "\n",
    "            "
   ]
  },
  {
   "cell_type": "code",
   "execution_count": 126,
   "id": "236d36d8",
   "metadata": {},
   "outputs": [
    {
     "name": "stdout",
     "output_type": "stream",
     "text": [
      "Total number fo parameters: 93\n",
      "Initial parameters: [-0.09853596023734362, 0.3539901884713029, 0.18220761581801204, 0.07748619229192871, -0.27016232803946766, -0.2701812719266047, -0.3470803193783306, 0.2875940723715904, 0.07941554451502764, 0.16341982045438685, -0.3765320576843356, 0.36906633485039675, 0.2610998395196489, -0.22592833415455854, -0.24989408639446606, -0.24865351650102802, -0.15374778285038299, 0.019443655936234094, -0.053450257368529874, -0.16396824985936403, 0.08784905808564497, -0.2831408597373909, -0.16324921129277079, -0.10495916283695494, -0.03450255371396088, 0.22397667632317453, -0.23587565991292622, 0.011179701787044638, 0.07258223265541519, -0.35621701285938445, 0.08446552916624028, -0.25876974813976605, -0.34160768004200726, 0.3525538765344448, 0.3657065435957788, 0.24221471080731205, -0.15345598684438455, -0.31598758274296407, 0.14469628065980145, -0.04700412150083444, -0.2968504761873684, -0.003788045940509188, -0.36569040037287726, 0.32147949203378046, -0.1894537594260454, 0.12764470364277525, -0.14788177502745853, 0.01576138697607371, 0.03668616760799359, -0.2475147318331399, 0.36881090420595875, 0.21608881415817394, 0.3451816615196366, 0.31009667588495615, 0.07689046355487539, 0.33133924937185943, -0.32319723311270165, -0.23877450149735271, -0.3571776520529418, -0.13718523741977195, -0.087432652222307, -0.17958205050383044, 0.2581898359277771, -0.11250567412764928, -0.17205363375529265, 0.03353342529675307, -0.28201745422533675, 0.23734495366847674, -0.33414714307253457, 0.3824001057882561, 0.21382054180015675, -0.2366281503835129, -0.3883620210517812, 0.24776282653116233, 0.16246537794319293, 0.17986180918424222, 0.2130552320713308, -0.3345445482173659, -0.11116075685912419, -0.30169573515309767, 0.28518076380601265, 0.09683812236070966, -0.13281238070761026, -0.3427804701155095, -0.14845413737416865, -0.137300697811436, 0.18033227077142244, 0.10803738536398144, 0.30411617686353576, -0.0218223467476657, -0.2987699805858792, 0.1674820642390199, 0.2048200982252255]\n"
     ]
    }
   ],
   "source": [
    "# Specify the optimizer and its initials parameters\n",
    "optimizer = cudaq.optimizers.NelderMead()\n",
    "#optimizer = cudaq.optimizers.ScipyOptimizer('L-BFGS-B')\n",
    "#optimizer = cudaq.optimizers.COBYLA()\n",
    "\n",
    "\n",
    "# Specify random seeds\n",
    "np.random.seed(42)\n",
    "cudaq.set_random_seed(42)\n",
    "\n",
    "parameter_count = (2* qubit_num + len(coef)) * num_layers\n",
    "\n",
    "print('Total number fo parameters:', parameter_count)\n",
    "optimizer.initial_parameters = np.random.uniform(-np.pi/8 , np.pi/8 , parameter_count)\n",
    "#optimizer.initial_parameters = np.random.uniform(0 , np.pi/8 , parameters_count)\n",
    "\n",
    "print('Initial parameters:', optimizer.initial_parameters)"
   ]
  },
  {
   "cell_type": "code",
   "execution_count": 127,
   "id": "f0a45b6b",
   "metadata": {},
   "outputs": [
    {
     "name": "stdout",
     "output_type": "stream",
     "text": [
      "optimal_expectation = -2.005789285778244\n",
      "optimal_parameters = [1.7463153968572498, 2.212015399838074, 2.058415325080067, 0.2013349094092503, 1.6560150677056185, -0.2973187386931973, -0.5228404214965403, 2.428807041933351, 2.2834114837142323, 0.1698085394757073, 1.987707410617769, 0.34262660606375067, 2.7059994707892807, 2.1380134575567835, -0.09207386422552435, -0.6315208178571483, 0.39366175813001636, 0.03270763459491971, -0.11486071969858366, 1.472278932285083, 0.05924041536917448, -0.5352992894912165, 0.02208026463967453, 0.22082171761454125, 1.4293124973628348, 0.3355415394179979, -0.05297651638444792, 0.09454020889471534, -0.7049201367593185, -0.4983712667461886, -0.4895292723006422, 2.371910387316876, -0.7182280754149042, 2.5878914613446686, 0.4738953498927138, 2.935948778730454, 0.09469242055132684, -0.2114871208952378, 0.15978378390184902, -0.043441059593050245, -0.24323605399747533, 0.3251170335686391, 1.6355326730163644, 0.29438284287869076, -0.011815424429838736, 0.179602128881677, -0.42655073640129526, 0.06772597560251767, 1.9648365467104898, -0.21539031207893028, 0.3484466701142262, 0.6033110755838984, 0.17100513403561296, 0.5153786806577554, 0.1911129622066352, -0.007747786044254268, -0.053832984512672474, -0.4468529779945819, 1.0892919570099096, -0.1873537162015415, 1.255347474854996, 0.19727987293267807, 1.3230030565598112, -0.09307498413389373, 0.3630455564598575, 1.0179365451487667, -0.4118237027630245, 0.2664594537487606, 0.8627833659110978, 1.5181250019084247, 0.6681748056899686, -0.13242370481706958, 0.4684674299617828, 1.0121910857155942, 2.373672699079566, 0.4535512966599411, 0.2820155542417969, -0.010650613261599662, 1.4789783526648312, -0.05847833602187097, 2.028452725442154, -0.06207920065401018, -0.5071570131016168, -0.538798090024375, 0.3205924331935649, 0.4058212723317328, 0.23403799692849073, 0.2711870022279872, 0.690058011395555, 0.5252236846106866, -0.37392170286384524, 0.2934932664811729, 0.27464913629042975]\n"
     ]
    }
   ],
   "source": [
    "cost_values = []\n",
    "\n",
    "\n",
    "def objective(parameters):\n",
    "\n",
    "    cost = cudaq.observe(dc_qaoa, ham, qubit_num, num_layers, parameters, coef,\n",
    "                         words).expectation()\n",
    "    cost_values.append(cost)\n",
    "    return cost\n",
    "\n",
    "\n",
    "# Optimize!\n",
    "optimal_expectation, optimal_parameters = optimizer.optimize(\n",
    "    dimensions=parameter_count, function=objective)\n",
    "\n",
    "print('optimal_expectation =', optimal_expectation)\n",
    "print('optimal_parameters =', optimal_parameters)"
   ]
  },
  {
   "cell_type": "code",
   "execution_count": 128,
   "id": "34cf2d77",
   "metadata": {},
   "outputs": [
    {
     "name": "stdout",
     "output_type": "stream",
     "text": [
      "Counts: { 111000:20000 }\n",
      "\n",
      "The MWCP is given by the partition: 111000\n"
     ]
    }
   ],
   "source": [
    "shots = 20000\n",
    "\n",
    "counts = cudaq.sample(dc_qaoa,\n",
    "                      qubit_num,\n",
    "                      num_layers,\n",
    "                      optimal_parameters,\n",
    "                      coef,\n",
    "                      words,\n",
    "                      shots_count=shots)\n",
    "\n",
    "print('Counts:', counts)\n",
    "\n",
    "print('The MWCP is given by the partition:', counts.most_probable())"
   ]
  },
  {
   "cell_type": "code",
   "execution_count": 129,
   "id": "697a4cd0",
   "metadata": {},
   "outputs": [
    {
     "data": {
      "image/png": "[encoded data removed]",
      "text/plain": [
       "<Figure size 640x480 with 1 Axes>"
      ]
     },
     "metadata": {},
     "output_type": "display_data"
    }
   ],
   "source": [
    "import matplotlib.pyplot as plt\n",
    "\n",
    "x_values = list(range(len(cost_values)))\n",
    "y_values = cost_values\n",
    "\n",
    "plt.plot(x_values, y_values)\n",
    "\n",
    "plt.xlabel(\"Epochs\")\n",
    "plt.ylabel(\"Cost Value\")\n",
    "plt.show()"
   ]
  },
  {
   "cell_type": "markdown",
   "id": "1704b16d",
   "metadata": {},
   "source": [
    "## 2. Molecular Docking with Multi-Angle Layered Variational Quantum Algorithm (MAL-VQA)\n",
    "\n",
    "As mentioned in the introduction, this implementation is inspired by the paper [*Quantum Computing for Optimizing Aircraft Loading*](https://arxiv.org/abs/2504.01567).\n",
    "\n",
    "The key feature of this algorithm lies in the \"MAL\" part. Unlike the conventional QAOA algorithm, which uses only two parameters per layer, here **each term in the cost Hamiltonian and the mixer Hamiltonian is associated with a separate parameter**, and there is also a parameterized $R_Y$ gate for each gate in the mixer. Note that $R_Y$ is used as the mixer instead of the more common $R_X$.\n",
    "\n",
    "The circuit also includes a **parameterized entanglement layer**, where each gate in the layer has its own parameter. The increase in the number of parameters compared to standard QAOA is **compensated by a reduced circuit depth**, potentially leading to better convergence.\n",
    "\n",
    "<!-- ![MAL-VQE ansatz circuit](ansatz_circuit.jpg) -->\n",
    "\n",
    "<p align=\"center\">\n",
    "  <img src=\"ansatz_circuit.jpg\" width=\"400\" alt=\"Ansatz circuit\">\n",
    "</p>\n",
    "\n",
    "\n",
    "\n",
    "Another important modification — not strictly part of the MAL-VQA itself, but included in the method used in the paper — concerns the **cost function**. Instead of computing the expected value as:\n",
    "\n",
    "$$\n",
    "\\sum_{i}\\bra{\\psi_{i}}H\\ket{\\psi_i}\n",
    "$$\n",
    "the authors use the **Conditional Value at Risk (CVaR)** method. This choice is motivated by the goal of **improving the overlap between the final quantum state and the optimal solution**, even if that comes at the cost of a higher overall expected value. As the authors put it:\n",
    "\n",
    "> *“to improve the overlap of the final state with the optimal state at the cost of potentially having a higher expectation value.”*\n",
    "\n",
    "---\n",
    "\n",
    "\n",
    "\n",
    "Now let’s look at the code."
   ]
  },
  {
   "cell_type": "code",
   "execution_count": 130,
   "id": "c54d84c2",
   "metadata": {},
   "outputs": [],
   "source": [
    "@cudaq.kernel\n",
    "def ma_qaoa(qubit_num:int , num_layers:int  , thetas:list[float],\\\n",
    "\n",
    "            coef:list[complex] , words:list[cudaq.pauli_word]):\n",
    "    \n",
    "    #def U_bloc(p):\n",
    "        \n",
    "\n",
    "    qubits = cudaq.qvector(qubit_num)\n",
    "    h(qubits)\n",
    "\n",
    "    count = 0\n",
    "    for p in range(num_layers):\n",
    "\n",
    "        # for j in range(qubit_num):\n",
    "        #     rx(thetas[count] , qubits[j])\n",
    "        #     count += 1\n",
    "\n",
    "        #### MAL VQE Bloc #####\n",
    "        for j in range(qubit_num):\n",
    "            ry(thetas[count] , qubits[j])\n",
    "            count += 1\n",
    "\n",
    "        for i in range(qubit_num):\n",
    "            rz.ctrl(thetas[count]  , qubits[i], qubits[(i+1) % qubit_num])\n",
    "            #exp_pauli(thetas[count] * coef[i].real , qubits , words[i])\n",
    "            count += 1\n",
    "        #########################\n",
    "\n",
    "        for i in range(len(coef)):\n",
    "            exp_pauli(thetas[count] * coef[i].real , qubits , words[i])\n",
    "            count += 1\n",
    "        \n",
    "        \n",
    "\n",
    "        \n",
    "        "
   ]
  },
  {
   "cell_type": "code",
   "execution_count": 131,
   "id": "72059d5b",
   "metadata": {},
   "outputs": [
    {
     "name": "stdout",
     "output_type": "stream",
     "text": [
      "Total number of parameters: 31\n",
      "Initial parameters: [-0.09853596023734362, 0.3539901884713029, 0.18220761581801204, 0.07748619229192871, -0.27016232803946766, -0.2701812719266047, -0.3470803193783306, 0.2875940723715904, 0.07941554451502764, 0.16341982045438685, -0.3765320576843356, 0.36906633485039675, 0.2610998395196489, -0.22592833415455854, -0.24989408639446606, -0.24865351650102802, -0.15374778285038299, 0.019443655936234094, -0.053450257368529874, -0.16396824985936403, 0.08784905808564497, -0.2831408597373909, -0.16324921129277079, -0.10495916283695494, -0.03450255371396088, 0.22397667632317453, -0.23587565991292622, 0.011179701787044638, 0.07258223265541519, -0.35621701285938445, 0.08446552916624028]\n"
     ]
    }
   ],
   "source": [
    "# Specify the optimizer and its initials parameters\n",
    "optimizer = cudaq.optimizers.NelderMead()\n",
    "#optimizer = cudaq.optimizers.ScipyOptimizer('L-BFGS-B')\n",
    "#optimizer = cudaq.optimizers.COBYLA()\n",
    "\n",
    "\n",
    "# Specify random seeds\n",
    "np.random.seed(42)\n",
    "cudaq.set_random_seed(42)\n",
    "\n",
    "parameter_count = (2* qubit_num + len(coef)) * mal_num_layers\n",
    "\n",
    "print('Total number of parameters:', parameter_count)\n",
    "optimizer.initial_parameters = np.random.uniform(-np.pi/8 , np.pi/8 , parameter_count)\n",
    "#optimizer.initial_parameters = np.random.uniform(0 , np.pi/8 , parameters_count)\n",
    "\n",
    "print('Initial parameters:', optimizer.initial_parameters)"
   ]
  },
  {
   "cell_type": "code",
   "execution_count": 132,
   "id": "050f3b4b",
   "metadata": {},
   "outputs": [
    {
     "name": "stdout",
     "output_type": "stream",
     "text": [
      "optimal_expectation = -2.0057998916670714\n",
      "optimal_parameters = [1.570833165096354, 1.5710007763557443, 1.5715295862648633, -1.5714542653635304, -1.5711313546561336, -1.5709298347391512, 2.7637171875246263, -0.7200795795026005, -0.9684098944763089, 3.125786612165742, 2.9340506398931065, 3.1178667498616948, 3.0967921883152565, 2.977558021189067, -0.9253897682861363, 3.048039082355101, -1.1770425828434352, 0.26536841407705164, -0.6780832488313244, 1.086531246281984, 2.958368366085751, -0.500069886624064, 0.4973201144541141, -1.0183240227778154, 0.9018494314801098, 1.9775404893959743, 2.7558082833974917, 1.0026646772428502, 2.1106099540464136, 0.9619627347125308, 0.6352301618820348]\n"
     ]
    }
   ],
   "source": [
    "cost_values = []\n",
    "\n",
    "\n",
    "# def objective(parameters):\n",
    "#     cost = cudaq.observe(ma_qaoa, ham, qubit_num, mal_num_layers, parameters, coef,\n",
    "#                          words).expectation()\n",
    "#     cost_values.append(cost)\n",
    "#     return cost\n",
    "\n",
    "\n",
    "def objective_CVaRepsilon(parameters, K, epsilon):\n",
    "    \"\"\"\n",
    "    parameters : the parameters to be optimized\n",
    "    K          : number of evaluations to perform\n",
    "    epsilon    : proportion of the smallest costs to consider (between 0 and 1)\n",
    "    \"\"\"\n",
    "    costs = []\n",
    "    \n",
    "    for _ in range(K):\n",
    "        cost = cudaq.observe(ma_qaoa, ham, qubit_num, mal_num_layers, parameters, coef, words).expectation()\n",
    "        costs.append(cost)\n",
    "        cost_values.append(cost)  # if you want to keep track globally\n",
    "\n",
    "    # Sort in ascending order\n",
    "    sorted_costs = sorted(costs)\n",
    "\n",
    "    # Number of elements to consider\n",
    "    num_to_average = max(1, int(K * epsilon))\n",
    "\n",
    "    # Average of the smallest costs\n",
    "    new_cost = sum(sorted_costs[:num_to_average]) / num_to_average\n",
    "\n",
    "    return new_cost\n",
    "\n",
    "\n",
    "\n",
    "# Optimize!\n",
    "# optimal_expectation, optimal_parameters = optimizer.optimize(\n",
    "#     dimensions=parameter_count, function=objective)\n",
    "\n",
    "optimal_expectation, optimal_parameters = optimizer.optimize(\n",
    "    dimensions=parameter_count,\n",
    "    function=lambda params: objective_CVaRepsilon(params, K=10, epsilon=0.2))\n",
    "\n",
    "print('optimal_expectation =', optimal_expectation)\n",
    "print('optimal_parameters =', optimal_parameters)\n"
   ]
  },
  {
   "cell_type": "code",
   "execution_count": 133,
   "id": "bb7cf0b8",
   "metadata": {},
   "outputs": [
    {
     "name": "stdout",
     "output_type": "stream",
     "text": [
      "Counts: { 111000:20000 }\n",
      "\n",
      "The MWCP is given by the partition: 111000\n"
     ]
    }
   ],
   "source": [
    "shots = 20000\n",
    "\n",
    "counts = cudaq.sample(ma_qaoa,\n",
    "                      qubit_num,\n",
    "                      mal_num_layers,\n",
    "                      optimal_parameters,\n",
    "                      coef,\n",
    "                      words,\n",
    "                      shots_count=shots)\n",
    "\n",
    "print('Counts:', counts)\n",
    "\n",
    "print('The MWCP is given by the partition:', counts.most_probable())"
   ]
  },
  {
   "cell_type": "code",
   "execution_count": 134,
   "id": "6f87d94a",
   "metadata": {},
   "outputs": [
    {
     "data": {
      "image/png": "[encoded data removed]",
      "text/plain": [
       "<Figure size 640x480 with 1 Axes>"
      ]
     },
     "metadata": {},
     "output_type": "display_data"
    }
   ],
   "source": [
    "import matplotlib.pyplot as plt\n",
    "\n",
    "x_values = list(range(len(cost_values)))\n",
    "y_values = cost_values\n",
    "\n",
    "plt.plot(x_values, y_values)\n",
    "\n",
    "plt.xlabel(\"Epochs\")\n",
    "plt.ylabel(\"Cost Value\")\n",
    "plt.show()"
   ]
  }
 ],
 "metadata": {
  "kernelspec": {
   "display_name": "cudaq_env",
   "language": "python",
   "name": "python3"
  },
  "language_info": {
   "codemirror_mode": {
    "name": "ipython",
    "version": 3
   },
   "file_extension": ".py",
   "mimetype": "text/x-python",
   "name": "python",
   "nbconvert_exporter": "python",
   "pygments_lexer": "ipython3",
   "version": "3.11.8"
  }
 },
 "nbformat": 4,
 "nbformat_minor": 5
}
