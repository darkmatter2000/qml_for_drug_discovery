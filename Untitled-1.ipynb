{
 "cells": [
  {
   "cell_type": "markdown",
   "id": "59c005a8",
   "metadata": {},
   "source": [
    "# Presentation\n",
    " Dans le tutoreil de Cudaq. ils propose une implémentation "
   ]
  },
  {
   "cell_type": "markdown",
   "id": "025803ec",
   "metadata": {},
   "source": [
    "# Molecular docking via DC-QAOA"
   ]
  },
  {
   "cell_type": "code",
   "execution_count": 73,
   "id": "1c7216d4",
   "metadata": {},
   "outputs": [],
   "source": [
    "import cudaq\n",
    "from cudaq import spin\n",
    "import numpy as np"
   ]
  },
  {
   "cell_type": "code",
   "execution_count": 74,
   "id": "affa1f9f",
   "metadata": {},
   "outputs": [
    {
     "name": "stdout",
     "output_type": "stream",
     "text": [
      "Edges: [[0, 1], [0, 2], [0, 4], [0, 5], [1, 2], [1, 3], [1, 5], [2, 3], [2, 4], [3, 4], [3, 5], [4, 5]]\n",
      "Non-edges: [[0, 3], [1, 4], [2, 5]]\n"
     ]
    }
   ],
   "source": [
    "# The two graph inputs from the paper\n",
    "\n",
    "# BIG 1\n",
    "\n",
    "nodes = [0 , 1 , 2, 3, 4, 5]\n",
    "qubit_num = len(nodes)\n",
    "edges = [[0, 1], [0, 2], [0, 4], [0, 5], [1, 2], [1, 3], [1, 5], [2, 3], [2, 4],\n",
    "         [3, 4], [3, 5], [4, 5]]\n",
    "\n",
    "non_edges = [\n",
    "    [u, v] for u in nodes for v in nodes if u < v and [u, v] not in edges\n",
    "]\n",
    "\n",
    "print('Edges:', edges)\n",
    "print('Non-edges:', non_edges)\n",
    "\n",
    "weights = [0.6686, 0.6686, 0.6686, 0.1453, 0.1453, 0.1453]\n",
    "penalty = 6.0\n",
    "num_layers = 1#1#3\n",
    "\n",
    "mal_num_layers = 3\n"
   ]
  },
  {
   "cell_type": "code",
   "execution_count": 75,
   "id": "5d8fd356",
   "metadata": {},
   "outputs": [],
   "source": [
    "# Generate the Hamiltonian\n",
    "\n",
    "# Generate the Hamiltonian\n",
    "def ham_clique(penalty, nodes, weights, non_edges) -> cudaq.SpinOperator:\n",
    "\n",
    "    spin_ham = 0\n",
    "    for wt, node in zip(weights, nodes):\n",
    "        #print(wt,node)\n",
    "        spin_ham += 0.5 * wt * spin.z(node)\n",
    "        spin_ham -= 0.5 * wt * spin.i(node)\n",
    "\n",
    "    for non_edge in non_edges:\n",
    "        u, v = (non_edge[0], non_edge[1])\n",
    "        #print(u,v)\n",
    "        spin_ham += penalty / 4.0 * (spin.z(u) * spin.z(v) - spin.z(u) -\n",
    "                                     spin.z(v) + spin.i(u) * spin.i(v))\n",
    "\n",
    "    return spin_ham\n",
    "    # for wt, node in zip(weights, nodes):\n",
    "    #     term1 = cudaq.SpinOperator(0.5 * wt * spin.z(node))\n",
    "    #     term2 = cudaq.SpinOperator(0.5 * wt * spin.i(node))\n",
    "    #     spin_ham += term1 - term2\n",
    "\n",
    "    # for u, v in non_edges:\n",
    "    #     term1 = cudaq.SpinOperator(penalty / 4.0 * spin.z(u) * spin.z(v))\n",
    "    #     term2 = cudaq.SpinOperator(penalty / 4.0 * spin.z(u))\n",
    "    #     term3 = cudaq.SpinOperator(penalty / 4.0 * spin.z(v))\n",
    "    #     term4 = cudaq.SpinOperator(penalty / 4.0 * spin.i(u) * spin.i(v))\n",
    "    #     spin_ham += term1 - term2 - term3 + term4\n",
    "    \n",
    "   # return spin_ham"
   ]
  },
  {
   "cell_type": "code",
   "execution_count": 76,
   "id": "e95728d4",
   "metadata": {},
   "outputs": [
    {
     "name": "stdout",
     "output_type": "stream",
     "text": [
      "(0+0i) + (-1.1657+0i) * Z0 + (-0.3343+0i) * I0 + (-1.1657+0i) * Z1 + (-0.3343+0i) * I1 + (-1.1657+0i) * Z2 + (-0.3343+0i) * I2 + (-1.42735+0i) * Z3 + (-0.07265+0i) * I3 + (-1.42735+0i) * Z4 + (-0.07265+0i) * I4 + (-1.42735+0i) * Z5 + (-0.07265+0i) * I5 + (1.5+0i) * Z0Z3 + (1.5+0i) * I0I3 + (1.5+0i) * Z1Z4 + (1.5+0i) * I1I4 + (1.5+0i) * Z2Z5 + (1.5+0i) * I2I5\n",
      "[0j, (-1.1657+0j), (-0.3343-0j), (-1.1657+0j), (-0.3343-0j), (-1.1657+0j), (-0.3343-0j), (-1.42735+0j), (-0.07265-0j), (-1.42735+0j), (-0.07265-0j), (-1.42735+0j), (-0.07265-0j), (1.5+0j), (1.5+0j), (1.5+0j), (1.5+0j), (1.5+0j), (1.5+0j)]\n",
      "['IIIIII', 'ZIIIII', 'IIIIII', 'IZIIII', 'IIIIII', 'IIZIII', 'IIIIII', 'IIIZII', 'IIIIII', 'IIIIZI', 'IIIIII', 'IIIIIZ', 'IIIIII', 'ZIIZII', 'IIIIII', 'IZIIZI', 'IIIIII', 'IIZIIZ', 'IIIIII']\n"
     ]
    }
   ],
   "source": [
    "# collect coefficients from a spin operator so we can pass them to a kernel\n",
    "\n",
    "def term_coefficients(ham: cudaq.SpinOperator) -> list[complex]:\n",
    "    result = []\n",
    "    for term in ham:\n",
    "        result.append(term.evaluate_coefficient())\n",
    "        #result.append(term.get_coefficient())\n",
    "    return result\n",
    "\n",
    "    # collect Pauli words from a spin operator so we can pass them to a kernel\n",
    "\n",
    "\n",
    "def term_words(ham: cudaq.SpinOperator) -> list[str]:\n",
    "    # Our kernel uses these words to apply exp_pauli to the entire state\n",
    "    # we hence ensure that each pauli word covers the entire space.\n",
    "\n",
    "    result = []\n",
    "    for term in ham:\n",
    "        result.append(term.get_pauli_word(qubit_num))\n",
    "    return result\n",
    "\n",
    "\n",
    "ham = ham_clique(penalty, nodes, weights, non_edges)\n",
    "print(ham)\n",
    "\n",
    "coef = term_coefficients(ham)\n",
    "words = term_words(ham)\n",
    "\n",
    "print(term_coefficients(ham))\n",
    "print(term_words(ham))"
   ]
  },
  {
   "cell_type": "code",
   "execution_count": 77,
   "id": "e4acfdf1",
   "metadata": {},
   "outputs": [],
   "source": [
    "@cudaq.kernel\n",
    "def dc_qaoa(qubit_num:int , num_layers:int , thetas:list[float],\\\n",
    "            coef:list[complex] , words:list[cudaq.pauli_word]):\n",
    "    \n",
    "    qubits = cudaq.qvector(qubit_num)\n",
    "    h(qubits)\n",
    "\n",
    "    count = 0\n",
    "    for p in range(num_layers):\n",
    "        for j in range(qubit_num):\n",
    "            rx(thetas[count] , qubits[j])\n",
    "            count += 1\n",
    "\n",
    "        for k in range(qubit_num):\n",
    "            ry(thetas[count] , qubits[k])\n",
    "            count += 1\n",
    "\n",
    "        for i in range(len(coef)):\n",
    "            exp_pauli(thetas[count] * coef[i].real , qubits , words[i])\n",
    "            count += 1\n",
    "        \n",
    "        # for i in range(len(coef)):\n",
    "        #     exp_pauli(thetas[count] * coef[i].real , qubits , words[i])\n",
    "        #     count += 1\n",
    "        # for j in range(qubit_num):\n",
    "        #     rx(thetas[count] , qubits[j])\n",
    "        #     count += 1\n",
    "\n",
    "        # # Comment out this loop for conventional QAOA\n",
    "        # for k in range(qubit_num):\n",
    "        #     ry(thetas[count] , qubits[k])\n",
    "        #     count += 1\n",
    "            "
   ]
  },
  {
   "cell_type": "code",
   "execution_count": 78,
   "id": "236d36d8",
   "metadata": {},
   "outputs": [
    {
     "name": "stdout",
     "output_type": "stream",
     "text": [
      "Total number fo parameters: 31\n",
      "Initial parameters: [-0.09853596023734362, 0.3539901884713029, 0.18220761581801204, 0.07748619229192871, -0.27016232803946766, -0.2701812719266047, -0.3470803193783306, 0.2875940723715904, 0.07941554451502764, 0.16341982045438685, -0.3765320576843356, 0.36906633485039675, 0.2610998395196489, -0.22592833415455854, -0.24989408639446606, -0.24865351650102802, -0.15374778285038299, 0.019443655936234094, -0.053450257368529874, -0.16396824985936403, 0.08784905808564497, -0.2831408597373909, -0.16324921129277079, -0.10495916283695494, -0.03450255371396088, 0.22397667632317453, -0.23587565991292622, 0.011179701787044638, 0.07258223265541519, -0.35621701285938445, 0.08446552916624028]\n"
     ]
    }
   ],
   "source": [
    "# Specify the optimizer and its initials parameters\n",
    "optimizer = cudaq.optimizers.NelderMead()\n",
    "#optimizer = cudaq.optimizers.ScipyOptimizer('L-BFGS-B')\n",
    "#optimizer = cudaq.optimizers.COBYLA()\n",
    "\n",
    "\n",
    "# Specify random seeds\n",
    "np.random.seed(42)\n",
    "cudaq.set_random_seed(42)\n",
    "\n",
    "parameter_count = (2* qubit_num + len(coef)) * num_layers\n",
    "\n",
    "print('Total number fo parameters:', parameter_count)\n",
    "optimizer.initial_parameters = np.random.uniform(-np.pi/8 , np.pi/8 , parameter_count)\n",
    "#optimizer.initial_parameters = np.random.uniform(0 , np.pi/8 , parameters_count)\n",
    "\n",
    "print('Initial parameters:', optimizer.initial_parameters)"
   ]
  },
  {
   "cell_type": "code",
   "execution_count": 79,
   "id": "f0a45b6b",
   "metadata": {},
   "outputs": [
    {
     "name": "stdout",
     "output_type": "stream",
     "text": [
      "optimal_expectation = -2.005798635103094\n",
      "optimal_parameters = [2.3457972092927935, 2.9409784343035836, 2.581010012054113, 0.6837114400062997, -1.087052813826761, -2.5459891549915374, 1.5693303117289923, 1.5705037698406012, 1.5709041475541914, -1.571066578266194, -1.57101663430781, -1.5714760848667813, 2.971447158072227, 2.9300212732175246, 0.4948876085626688, 3.0245472996401057, 1.3565006811731632, 0.4172872855295189, 0.8926465043620555, 0.1789852805743566, -0.17428512747020408, -0.3538382117462595, 0.4031230999313964, 1.5677019870419224, 1.0868038292114268, 0.2833440399112812, 0.7773747593317955, 0.4630747154661009, -0.4712884087003669, -2.4625889219112462, -1.8942981211481273]\n"
     ]
    }
   ],
   "source": [
    "cost_values = []\n",
    "\n",
    "\n",
    "def objective(parameters):\n",
    "\n",
    "    cost = cudaq.observe(dc_qaoa, ham, qubit_num, num_layers, parameters, coef,\n",
    "                         words).expectation()\n",
    "    cost_values.append(cost)\n",
    "    return cost\n",
    "\n",
    "\n",
    "# Optimize!\n",
    "optimal_expectation, optimal_parameters = optimizer.optimize(\n",
    "    dimensions=parameter_count, function=objective)\n",
    "\n",
    "print('optimal_expectation =', optimal_expectation)\n",
    "print('optimal_parameters =', optimal_parameters)"
   ]
  },
  {
   "cell_type": "code",
   "execution_count": 80,
   "id": "34cf2d77",
   "metadata": {},
   "outputs": [
    {
     "name": "stdout",
     "output_type": "stream",
     "text": [
      "Counts: { 111000:20000 }\n",
      "\n",
      "The MWCP is given by the partition: 111000\n"
     ]
    }
   ],
   "source": [
    "shots = 20000\n",
    "\n",
    "counts = cudaq.sample(dc_qaoa,\n",
    "                      qubit_num,\n",
    "                      num_layers,\n",
    "                      optimal_parameters,\n",
    "                      coef,\n",
    "                      words,\n",
    "                      shots_count=shots)\n",
    "\n",
    "print('Counts:', counts)\n",
    "\n",
    "print('The MWCP is given by the partition:', counts.most_probable())"
   ]
  },
  {
   "cell_type": "code",
   "execution_count": 81,
   "id": "697a4cd0",
   "metadata": {},
   "outputs": [
    {
     "data": {
      "image/png": "[encoded data removed]",
      "text/plain": [
       "<Figure size 640x480 with 1 Axes>"
      ]
     },
     "metadata": {},
     "output_type": "display_data"
    }
   ],
   "source": [
    "import matplotlib.pyplot as plt\n",
    "\n",
    "x_values = list(range(len(cost_values)))\n",
    "y_values = cost_values\n",
    "\n",
    "plt.plot(x_values, y_values)\n",
    "\n",
    "plt.xlabel(\"Epochs\")\n",
    "plt.ylabel(\"Cost Value\")\n",
    "plt.show()"
   ]
  },
  {
   "cell_type": "markdown",
   "id": "1704b16d",
   "metadata": {},
   "source": [
    "# Molecular docking with Mutli-Angle Layered Variational Quantum Algorithm (MAL-VQA)\n",
    "\n",
    "the project is to solve the same problem with MAL-VQA algorithm such as show in the paper [Quantum Computing for Optimizing aircraft loading](https://arxiv.org/abs/2504.01567).\n",
    "\n",
    "the main things i have to do are:\n",
    "* implément the new circuit\n",
    "la porte deux qubit Z-controled n'est pas native sur cudaq donc il faut la construire\n",
    "modifier le calcul du nombre de paramétres\n",
    "* implément the $CVaR_{\\epsilon}(X)$ cost fonction évaluation"
   ]
  },
  {
   "cell_type": "code",
   "execution_count": null,
   "id": "c54d84c2",
   "metadata": {},
   "outputs": [],
   "source": [
    "@cudaq.kernel\n",
    "def ma_qaoa(qubit_num:int , num_layers:int  , thetas:list[float],\\\n",
    "):\n",
    "            #coef:list[complex] , words:list[cudaq.pauli_word]):\n",
    "    \n",
    "    #def U_bloc(p):\n",
    "        \n",
    "\n",
    "    qubits = cudaq.qvector(qubit_num)\n",
    "    h(qubits)\n",
    "\n",
    "    count = 0\n",
    "    for p in range(num_layers):\n",
    "        for j in range(qubit_num):\n",
    "            ry(thetas[count] , qubits[j])\n",
    "            count += 1\n",
    "\n",
    "        #for i in range(len(coef)):\n",
    "        for i in range(qubit_num):\n",
    "            rz.ctrl(thetas[count]  , qubits[i], qubits[(i+1) % qubit_num])\n",
    "            #exp_pauli(thetas[count] * coef[i].real , qubits , words[i])\n",
    "            count += 1\n",
    "\n",
    "        # for k in range(qubit_num):\n",
    "        #     ry(thetas[count] , qubits[k])\n",
    "        #     count += 1\n",
    "\n",
    "        \n",
    "        \n",
    "        # for i in range(len(coef)):\n",
    "        #     exp_pauli(thetas[count] * coef[i].real , qubits , words[i])\n",
    "        #     count += 1\n",
    "        # for j in range(qubit_num):\n",
    "        #     rx(thetas[count] , qubits[j])\n",
    "        #     count += 1\n",
    "\n",
    "        # # Comment out this loop for conventional QAOA\n",
    "        # for k in range(qubit_num):\n",
    "        #     ry(thetas[count] , qubits[k])\n",
    "        #     count += 1\n",
    "            "
   ]
  },
  {
   "cell_type": "code",
   "execution_count": 86,
   "id": "72059d5b",
   "metadata": {},
   "outputs": [
    {
     "name": "stdout",
     "output_type": "stream",
     "text": [
      "Total number fo parameters: 36\n",
      "Initial parameters: [-0.09853596023734362, 0.3539901884713029, 0.18220761581801204, 0.07748619229192871, -0.27016232803946766, -0.2701812719266047, -0.3470803193783306, 0.2875940723715904, 0.07941554451502764, 0.16341982045438685, -0.3765320576843356, 0.36906633485039675, 0.2610998395196489, -0.22592833415455854, -0.24989408639446606, -0.24865351650102802, -0.15374778285038299, 0.019443655936234094, -0.053450257368529874, -0.16396824985936403, 0.08784905808564497, -0.2831408597373909, -0.16324921129277079, -0.10495916283695494, -0.03450255371396088, 0.22397667632317453, -0.23587565991292622, 0.011179701787044638, 0.07258223265541519, -0.35621701285938445, 0.08446552916624028, -0.25876974813976605, -0.34160768004200726, 0.3525538765344448, 0.3657065435957788, 0.24221471080731205]\n"
     ]
    }
   ],
   "source": [
    "# Specify the optimizer and its initials parameters\n",
    "optimizer = cudaq.optimizers.NelderMead()\n",
    "#optimizer = cudaq.optimizers.ScipyOptimizer('L-BFGS-B')\n",
    "#optimizer = cudaq.optimizers.COBYLA()\n",
    "\n",
    "\n",
    "# Specify random seeds\n",
    "np.random.seed(42)\n",
    "cudaq.set_random_seed(42)\n",
    "\n",
    "parameter_count = (2*qubit_num) * mal_num_layers\n",
    "\n",
    "print('Total number fo parameters:', parameter_count)\n",
    "optimizer.initial_parameters = np.random.uniform(-np.pi/8 , np.pi/8 , parameter_count)\n",
    "#optimizer.initial_parameters = np.random.uniform(0 , np.pi/8 , parameters_count)\n",
    "\n",
    "print('Initial parameters:', optimizer.initial_parameters)"
   ]
  },
  {
   "cell_type": "code",
   "execution_count": 87,
   "id": "050f3b4b",
   "metadata": {},
   "outputs": [
    {
     "name": "stdout",
     "output_type": "stream",
     "text": [
      "\u001b[1m"
     ]
    },
    {
     "ename": "RuntimeError",
     "evalue": "NLOpt runtime error: nlopt failure",
     "output_type": "error",
     "traceback": [
      "\u001b[31m---------------------------------------------------------------------------\u001b[39m",
      "\u001b[31mRuntimeError\u001b[39m                              Traceback (most recent call last)",
      "\u001b[36mCell\u001b[39m\u001b[36m \u001b[39m\u001b[32mIn[87]\u001b[39m\u001b[32m, line 14\u001b[39m\n\u001b[32m     10\u001b[39m     \u001b[38;5;28;01mreturn\u001b[39;00m cost\n\u001b[32m     13\u001b[39m \u001b[38;5;66;03m# Optimize!\u001b[39;00m\n\u001b[32m---> \u001b[39m\u001b[32m14\u001b[39m optimal_expectation, optimal_parameters = \u001b[43moptimizer\u001b[49m\u001b[43m.\u001b[49m\u001b[43moptimize\u001b[49m\u001b[43m(\u001b[49m\n\u001b[32m     15\u001b[39m \u001b[43m    \u001b[49m\u001b[43mdimensions\u001b[49m\u001b[43m=\u001b[49m\u001b[43mparameter_count\u001b[49m\u001b[43m,\u001b[49m\u001b[43m \u001b[49m\u001b[43mfunction\u001b[49m\u001b[43m=\u001b[49m\u001b[43mobjective\u001b[49m\u001b[43m)\u001b[49m\n\u001b[32m     17\u001b[39m \u001b[38;5;28mprint\u001b[39m(\u001b[33m'\u001b[39m\u001b[33moptimal_expectation =\u001b[39m\u001b[33m'\u001b[39m, optimal_expectation)\n\u001b[32m     18\u001b[39m \u001b[38;5;28mprint\u001b[39m(\u001b[33m'\u001b[39m\u001b[33moptimal_parameters =\u001b[39m\u001b[33m'\u001b[39m, optimal_parameters)\n",
      "\u001b[31mRuntimeError\u001b[39m: NLOpt runtime error: nlopt failure"
     ]
    }
   ],
   "source": [
    "cost_values = []\n",
    "\n",
    "\n",
    "def objective(parameters):\n",
    "\n",
    "    cost = cudaq.observe(ma_qaoa, ham, qubit_num, mal_num_layers, parameters).expectation()\n",
    "    # cost = cudaq.observe(ma_qaoa, ham, qubit_num, mal_num_layers, parameters, coef,\n",
    "    #                      words).expectation()\n",
    "    cost_values.append(cost)\n",
    "    return cost\n",
    "\n",
    "\n",
    "# Optimize!\n",
    "optimal_expectation, optimal_parameters = optimizer.optimize(\n",
    "    dimensions=parameter_count, function=objective)\n",
    "\n",
    "print('optimal_expectation =', optimal_expectation)\n",
    "print('optimal_parameters =', optimal_parameters)\n"
   ]
  },
  {
   "cell_type": "code",
   "execution_count": 88,
   "id": "bb7cf0b8",
   "metadata": {},
   "outputs": [
    {
     "name": "stdout",
     "output_type": "stream",
     "text": [
      "\u001b[1m"
     ]
    },
    {
     "ename": "CompilerError",
     "evalue": "918696350.py:20: \u001b[91merror: \u001b[0m\u001b[1munhandled function call - rzz, known kernels are dict_keys(['dc_qaoa'])\n\t (offending source -> rzz(thetas[count], qubits[i], qubits[(i + 1) % qubit_num]))\u001b[0m",
     "output_type": "error",
     "traceback": [
      "\u001b[31m---------------------------------------------------------------------------\u001b[39m",
      "\u001b[31mCompilerError\u001b[39m                             Traceback (most recent call last)",
      "\u001b[36mCell\u001b[39m\u001b[36m \u001b[39m\u001b[32mIn[88]\u001b[39m\u001b[32m, line 3\u001b[39m\n\u001b[32m      1\u001b[39m shots = \u001b[32m20000\u001b[39m\n\u001b[32m----> \u001b[39m\u001b[32m3\u001b[39m counts = \u001b[43mcudaq\u001b[49m\u001b[43m.\u001b[49m\u001b[43msample\u001b[49m\u001b[43m(\u001b[49m\u001b[43mma_qaoa\u001b[49m\u001b[43m,\u001b[49m\n\u001b[32m      4\u001b[39m \u001b[43m                      \u001b[49m\u001b[43mqubit_num\u001b[49m\u001b[43m,\u001b[49m\n\u001b[32m      5\u001b[39m \u001b[43m                      \u001b[49m\u001b[43mmal_num_layers\u001b[49m\u001b[43m,\u001b[49m\n\u001b[32m      6\u001b[39m \u001b[43m                      \u001b[49m\u001b[43moptimal_parameters\u001b[49m\u001b[43m,\u001b[49m\n\u001b[32m      7\u001b[39m \u001b[43m                      \u001b[49m\u001b[43mcoef\u001b[49m\u001b[43m,\u001b[49m\n\u001b[32m      8\u001b[39m \u001b[43m                      \u001b[49m\u001b[43mwords\u001b[49m\u001b[43m,\u001b[49m\n\u001b[32m      9\u001b[39m \u001b[43m                      \u001b[49m\u001b[43mshots_count\u001b[49m\u001b[43m=\u001b[49m\u001b[43mshots\u001b[49m\u001b[43m)\u001b[49m\n\u001b[32m     11\u001b[39m \u001b[38;5;28mprint\u001b[39m(\u001b[33m'\u001b[39m\u001b[33mCounts:\u001b[39m\u001b[33m'\u001b[39m, counts)\n\u001b[32m     13\u001b[39m \u001b[38;5;28mprint\u001b[39m(\u001b[33m'\u001b[39m\u001b[33mThe MWCP is given by the partition:\u001b[39m\u001b[33m'\u001b[39m, counts.most_probable())\n",
      "\u001b[36mFile \u001b[39m\u001b[32m~/miniconda3/envs/cudaq_env/lib/python3.11/site-packages/cudaq/runtime/sample.py:74\u001b[39m, in \u001b[36msample\u001b[39m\u001b[34m(kernel, shots_count, noise_model, explicit_measurements, *args)\u001b[39m\n\u001b[32m     71\u001b[39m has_conditionals_on_measure_result = \u001b[38;5;28;01mFalse\u001b[39;00m\n\u001b[32m     73\u001b[39m \u001b[38;5;28;01mif\u001b[39;00m \u001b[38;5;28misinstance\u001b[39m(kernel, PyKernelDecorator):\n\u001b[32m---> \u001b[39m\u001b[32m74\u001b[39m     \u001b[43mkernel\u001b[49m\u001b[43m.\u001b[49m\u001b[43mcompile\u001b[49m\u001b[43m(\u001b[49m\u001b[43m)\u001b[49m\n\u001b[32m     75\u001b[39m     \u001b[38;5;28;01mif\u001b[39;00m kernel.module \u001b[38;5;129;01mis\u001b[39;00m \u001b[38;5;129;01mnot\u001b[39;00m \u001b[38;5;28;01mNone\u001b[39;00m:\n\u001b[32m     76\u001b[39m         \u001b[38;5;28;01mfor\u001b[39;00m operation \u001b[38;5;129;01min\u001b[39;00m kernel.module.body.operations:\n",
      "\u001b[36mFile \u001b[39m\u001b[32m~/miniconda3/envs/cudaq_env/lib/python3.11/site-packages/cudaq/kernel/kernel_decorator.py:214\u001b[39m, in \u001b[36mPyKernelDecorator.compile\u001b[39m\u001b[34m(self)\u001b[39m\n\u001b[32m    211\u001b[39m \u001b[38;5;28mself\u001b[39m.capturedDataStorage = \u001b[38;5;28mself\u001b[39m.createStorage()\n\u001b[32m    213\u001b[39m \u001b[38;5;66;03m# Caches the module and stores captured data into `self.capturedDataStorage`.\u001b[39;00m\n\u001b[32m--> \u001b[39m\u001b[32m214\u001b[39m \u001b[38;5;28mself\u001b[39m.module, \u001b[38;5;28mself\u001b[39m.argTypes, extraMetadata = \u001b[43mcompile_to_mlir\u001b[49m\u001b[43m(\u001b[49m\n\u001b[32m    215\u001b[39m \u001b[43m    \u001b[49m\u001b[38;5;28;43mself\u001b[39;49m\u001b[43m.\u001b[49m\u001b[43mastModule\u001b[49m\u001b[43m,\u001b[49m\n\u001b[32m    216\u001b[39m \u001b[43m    \u001b[49m\u001b[38;5;28;43mself\u001b[39;49m\u001b[43m.\u001b[49m\u001b[43mcapturedDataStorage\u001b[49m\u001b[43m,\u001b[49m\n\u001b[32m    217\u001b[39m \u001b[43m    \u001b[49m\u001b[43mverbose\u001b[49m\u001b[43m=\u001b[49m\u001b[38;5;28;43mself\u001b[39;49m\u001b[43m.\u001b[49m\u001b[43mverbose\u001b[49m\u001b[43m,\u001b[49m\n\u001b[32m    218\u001b[39m \u001b[43m    \u001b[49m\u001b[43mreturnType\u001b[49m\u001b[43m=\u001b[49m\u001b[38;5;28;43mself\u001b[39;49m\u001b[43m.\u001b[49m\u001b[43mreturnType\u001b[49m\u001b[43m,\u001b[49m\n\u001b[32m    219\u001b[39m \u001b[43m    \u001b[49m\u001b[43mlocation\u001b[49m\u001b[43m=\u001b[49m\u001b[38;5;28;43mself\u001b[39;49m\u001b[43m.\u001b[49m\u001b[43mlocation\u001b[49m\u001b[43m,\u001b[49m\n\u001b[32m    220\u001b[39m \u001b[43m    \u001b[49m\u001b[43mparentVariables\u001b[49m\u001b[43m=\u001b[49m\u001b[38;5;28;43mself\u001b[39;49m\u001b[43m.\u001b[49m\u001b[43mglobalScopedVars\u001b[49m\u001b[43m)\u001b[49m\n\u001b[32m    222\u001b[39m \u001b[38;5;66;03m# Grab the dependent capture variables, if any\u001b[39;00m\n\u001b[32m    223\u001b[39m \u001b[38;5;28mself\u001b[39m.dependentCaptures = extraMetadata[\n\u001b[32m    224\u001b[39m     \u001b[33m'\u001b[39m\u001b[33mdependent_captures\u001b[39m\u001b[33m'\u001b[39m] \u001b[38;5;28;01mif\u001b[39;00m \u001b[33m'\u001b[39m\u001b[33mdependent_captures\u001b[39m\u001b[33m'\u001b[39m \u001b[38;5;129;01min\u001b[39;00m extraMetadata \u001b[38;5;28;01melse\u001b[39;00m \u001b[38;5;28;01mNone\u001b[39;00m\n",
      "\u001b[36mFile \u001b[39m\u001b[32m~/miniconda3/envs/cudaq_env/lib/python3.11/site-packages/cudaq/kernel/ast_bridge.py:4330\u001b[39m, in \u001b[36mcompile_to_mlir\u001b[39m\u001b[34m(astModule, capturedDataStorage, **kwargs)\u001b[39m\n\u001b[32m   4324\u001b[39m         PyASTBridge(capturedDataStorage,\n\u001b[32m   4325\u001b[39m                     existingModule=bridge.module,\n\u001b[32m   4326\u001b[39m                     locationOffset=depKernels[funcName][\u001b[32m1\u001b[39m]).visit(\n\u001b[32m   4327\u001b[39m                         depKernels[funcName][\u001b[32m0\u001b[39m])\n\u001b[32m   4329\u001b[39m \u001b[38;5;66;03m# Build the MLIR Module for this kernel\u001b[39;00m\n\u001b[32m-> \u001b[39m\u001b[32m4330\u001b[39m \u001b[43mbridge\u001b[49m\u001b[43m.\u001b[49m\u001b[43mvisit\u001b[49m\u001b[43m(\u001b[49m\u001b[43mastModule\u001b[49m\u001b[43m)\u001b[49m\n\u001b[32m   4332\u001b[39m \u001b[38;5;28;01mif\u001b[39;00m verbose:\n\u001b[32m   4333\u001b[39m     \u001b[38;5;28mprint\u001b[39m(bridge.module)\n",
      "\u001b[36mFile \u001b[39m\u001b[32m~/miniconda3/envs/cudaq_env/lib/python3.11/ast.py:418\u001b[39m, in \u001b[36mNodeVisitor.visit\u001b[39m\u001b[34m(self, node)\u001b[39m\n\u001b[32m    416\u001b[39m method = \u001b[33m'\u001b[39m\u001b[33mvisit_\u001b[39m\u001b[33m'\u001b[39m + node.\u001b[34m__class__\u001b[39m.\u001b[34m__name__\u001b[39m\n\u001b[32m    417\u001b[39m visitor = \u001b[38;5;28mgetattr\u001b[39m(\u001b[38;5;28mself\u001b[39m, method, \u001b[38;5;28mself\u001b[39m.generic_visit)\n\u001b[32m--> \u001b[39m\u001b[32m418\u001b[39m \u001b[38;5;28;01mreturn\u001b[39;00m \u001b[43mvisitor\u001b[49m\u001b[43m(\u001b[49m\u001b[43mnode\u001b[49m\u001b[43m)\u001b[49m\n",
      "\u001b[36mFile \u001b[39m\u001b[32m~/miniconda3/envs/cudaq_env/lib/python3.11/site-packages/cudaq/kernel/ast_bridge.py:938\u001b[39m, in \u001b[36mPyASTBridge.generic_visit\u001b[39m\u001b[34m(self, node)\u001b[39m\n\u001b[32m    936\u001b[39m     \u001b[38;5;28;01mfor\u001b[39;00m item \u001b[38;5;129;01min\u001b[39;00m value:\n\u001b[32m    937\u001b[39m         \u001b[38;5;28;01mif\u001b[39;00m \u001b[38;5;28misinstance\u001b[39m(item, ast.AST):\n\u001b[32m--> \u001b[39m\u001b[32m938\u001b[39m             \u001b[38;5;28;43mself\u001b[39;49m\u001b[43m.\u001b[49m\u001b[43mvisit\u001b[49m\u001b[43m(\u001b[49m\u001b[43mitem\u001b[49m\u001b[43m)\u001b[49m\n\u001b[32m    939\u001b[39m \u001b[38;5;28;01melif\u001b[39;00m \u001b[38;5;28misinstance\u001b[39m(value, ast.AST):\n\u001b[32m    940\u001b[39m     \u001b[38;5;28mself\u001b[39m.visit(value)\n",
      "\u001b[36mFile \u001b[39m\u001b[32m~/miniconda3/envs/cudaq_env/lib/python3.11/ast.py:418\u001b[39m, in \u001b[36mNodeVisitor.visit\u001b[39m\u001b[34m(self, node)\u001b[39m\n\u001b[32m    416\u001b[39m method = \u001b[33m'\u001b[39m\u001b[33mvisit_\u001b[39m\u001b[33m'\u001b[39m + node.\u001b[34m__class__\u001b[39m.\u001b[34m__name__\u001b[39m\n\u001b[32m    417\u001b[39m visitor = \u001b[38;5;28mgetattr\u001b[39m(\u001b[38;5;28mself\u001b[39m, method, \u001b[38;5;28mself\u001b[39m.generic_visit)\n\u001b[32m--> \u001b[39m\u001b[32m418\u001b[39m \u001b[38;5;28;01mreturn\u001b[39;00m \u001b[43mvisitor\u001b[49m\u001b[43m(\u001b[49m\u001b[43mnode\u001b[49m\u001b[43m)\u001b[49m\n",
      "\u001b[36mFile \u001b[39m\u001b[32m~/miniconda3/envs/cudaq_env/lib/python3.11/site-packages/cudaq/kernel/ast_bridge.py:1054\u001b[39m, in \u001b[36mPyASTBridge.visit_FunctionDef\u001b[39m\u001b[34m(self, node)\u001b[39m\n\u001b[32m   1052\u001b[39m         \u001b[38;5;28;01mif\u001b[39;00m \u001b[38;5;28misinstance\u001b[39m(constant.value, \u001b[38;5;28mstr\u001b[39m):\n\u001b[32m   1053\u001b[39m             startIdx = \u001b[32m1\u001b[39m\n\u001b[32m-> \u001b[39m\u001b[32m1054\u001b[39m \u001b[43m[\u001b[49m\u001b[38;5;28;43mself\u001b[39;49m\u001b[43m.\u001b[49m\u001b[43mvisit\u001b[49m\u001b[43m(\u001b[49m\u001b[43mn\u001b[49m\u001b[43m)\u001b[49m\u001b[43m \u001b[49m\u001b[38;5;28;43;01mfor\u001b[39;49;00m\u001b[43m \u001b[49m\u001b[43mn\u001b[49m\u001b[43m \u001b[49m\u001b[38;5;129;43;01min\u001b[39;49;00m\u001b[43m \u001b[49m\u001b[43mnode\u001b[49m\u001b[43m.\u001b[49m\u001b[43mbody\u001b[49m\u001b[43m[\u001b[49m\u001b[43mstartIdx\u001b[49m\u001b[43m:\u001b[49m\u001b[43m]\u001b[49m\u001b[43m]\u001b[49m\n\u001b[32m   1055\u001b[39m \u001b[38;5;66;03m# Add the return operation\u001b[39;00m\n\u001b[32m   1056\u001b[39m \u001b[38;5;28;01mif\u001b[39;00m \u001b[38;5;129;01mnot\u001b[39;00m \u001b[38;5;28mself\u001b[39m.hasTerminator(\u001b[38;5;28mself\u001b[39m.entry):\n",
      "\u001b[36mFile \u001b[39m\u001b[32m~/miniconda3/envs/cudaq_env/lib/python3.11/site-packages/cudaq/kernel/ast_bridge.py:1054\u001b[39m, in \u001b[36m<listcomp>\u001b[39m\u001b[34m(.0)\u001b[39m\n\u001b[32m   1052\u001b[39m         \u001b[38;5;28;01mif\u001b[39;00m \u001b[38;5;28misinstance\u001b[39m(constant.value, \u001b[38;5;28mstr\u001b[39m):\n\u001b[32m   1053\u001b[39m             startIdx = \u001b[32m1\u001b[39m\n\u001b[32m-> \u001b[39m\u001b[32m1054\u001b[39m [\u001b[38;5;28;43mself\u001b[39;49m\u001b[43m.\u001b[49m\u001b[43mvisit\u001b[49m\u001b[43m(\u001b[49m\u001b[43mn\u001b[49m\u001b[43m)\u001b[49m \u001b[38;5;28;01mfor\u001b[39;00m n \u001b[38;5;129;01min\u001b[39;00m node.body[startIdx:]]\n\u001b[32m   1055\u001b[39m \u001b[38;5;66;03m# Add the return operation\u001b[39;00m\n\u001b[32m   1056\u001b[39m \u001b[38;5;28;01mif\u001b[39;00m \u001b[38;5;129;01mnot\u001b[39;00m \u001b[38;5;28mself\u001b[39m.hasTerminator(\u001b[38;5;28mself\u001b[39m.entry):\n",
      "\u001b[36mFile \u001b[39m\u001b[32m~/miniconda3/envs/cudaq_env/lib/python3.11/ast.py:418\u001b[39m, in \u001b[36mNodeVisitor.visit\u001b[39m\u001b[34m(self, node)\u001b[39m\n\u001b[32m    416\u001b[39m method = \u001b[33m'\u001b[39m\u001b[33mvisit_\u001b[39m\u001b[33m'\u001b[39m + node.\u001b[34m__class__\u001b[39m.\u001b[34m__name__\u001b[39m\n\u001b[32m    417\u001b[39m visitor = \u001b[38;5;28mgetattr\u001b[39m(\u001b[38;5;28mself\u001b[39m, method, \u001b[38;5;28mself\u001b[39m.generic_visit)\n\u001b[32m--> \u001b[39m\u001b[32m418\u001b[39m \u001b[38;5;28;01mreturn\u001b[39;00m \u001b[43mvisitor\u001b[49m\u001b[43m(\u001b[49m\u001b[43mnode\u001b[49m\u001b[43m)\u001b[49m\n",
      "\u001b[36mFile \u001b[39m\u001b[32m~/miniconda3/envs/cudaq_env/lib/python3.11/site-packages/cudaq/kernel/ast_bridge.py:3291\u001b[39m, in \u001b[36mPyASTBridge.visit_For\u001b[39m\u001b[34m(self, node)\u001b[39m\n\u001b[32m   3288\u001b[39m             [\u001b[38;5;28mself\u001b[39m.visit(b) \u001b[38;5;28;01mfor\u001b[39;00m b \u001b[38;5;129;01min\u001b[39;00m node.body]\n\u001b[32m   3289\u001b[39m             \u001b[38;5;28mself\u001b[39m.symbolTable.popScope()\n\u001b[32m-> \u001b[39m\u001b[32m3291\u001b[39m         \u001b[38;5;28;43mself\u001b[39;49m\u001b[43m.\u001b[49m\u001b[43mcreateInvariantForLoop\u001b[49m\u001b[43m(\u001b[49m\u001b[43mendVal\u001b[49m\u001b[43m,\u001b[49m\n\u001b[32m   3292\u001b[39m \u001b[43m                                    \u001b[49m\u001b[43mbodyBuilder\u001b[49m\u001b[43m,\u001b[49m\n\u001b[32m   3293\u001b[39m \u001b[43m                                    \u001b[49m\u001b[43mstartVal\u001b[49m\u001b[43m=\u001b[49m\u001b[43mstartVal\u001b[49m\u001b[43m,\u001b[49m\n\u001b[32m   3294\u001b[39m \u001b[43m                                    \u001b[49m\u001b[43mstepVal\u001b[49m\u001b[43m=\u001b[49m\u001b[43mstepVal\u001b[49m\u001b[43m,\u001b[49m\n\u001b[32m   3295\u001b[39m \u001b[43m                                    \u001b[49m\u001b[43misDecrementing\u001b[49m\u001b[43m=\u001b[49m\u001b[43misDecrementing\u001b[49m\u001b[43m)\u001b[49m\n\u001b[32m   3296\u001b[39m         \u001b[38;5;28;01mreturn\u001b[39;00m\n\u001b[32m   3298\u001b[39m \u001b[38;5;66;03m# We can simplify `for i,j in enumerate(L)` MLIR code immensely\u001b[39;00m\n\u001b[32m   3299\u001b[39m \u001b[38;5;66;03m# by just building a for loop over the iterable object L and using\u001b[39;00m\n\u001b[32m   3300\u001b[39m \u001b[38;5;66;03m# the index into that iterable and the element.\u001b[39;00m\n",
      "\u001b[36mFile \u001b[39m\u001b[32m~/miniconda3/envs/cudaq_env/lib/python3.11/site-packages/cudaq/kernel/ast_bridge.py:830\u001b[39m, in \u001b[36mPyASTBridge.createInvariantForLoop\u001b[39m\u001b[34m(self, endVal, bodyBuilder, startVal, stepVal, isDecrementing)\u001b[39m\n\u001b[32m    828\u001b[39m \u001b[38;5;28mself\u001b[39m.symbolTable.pushScope()\n\u001b[32m    829\u001b[39m \u001b[38;5;28mself\u001b[39m.pushForBodyStack(bodyBlock.arguments)\n\u001b[32m--> \u001b[39m\u001b[32m830\u001b[39m \u001b[43mbodyBuilder\u001b[49m\u001b[43m(\u001b[49m\u001b[43mbodyBlock\u001b[49m\u001b[43m.\u001b[49m\u001b[43marguments\u001b[49m\u001b[43m[\u001b[49m\u001b[32;43m0\u001b[39;49m\u001b[43m]\u001b[49m\u001b[43m)\u001b[49m\n\u001b[32m    831\u001b[39m \u001b[38;5;28;01mif\u001b[39;00m \u001b[38;5;129;01mnot\u001b[39;00m \u001b[38;5;28mself\u001b[39m.hasTerminator(bodyBlock):\n\u001b[32m    832\u001b[39m     cc.ContinueOp(bodyBlock.arguments)\n",
      "\u001b[36mFile \u001b[39m\u001b[32m~/miniconda3/envs/cudaq_env/lib/python3.11/site-packages/cudaq/kernel/ast_bridge.py:3288\u001b[39m, in \u001b[36mPyASTBridge.visit_For.<locals>.bodyBuilder\u001b[39m\u001b[34m(iterVar)\u001b[39m\n\u001b[32m   3286\u001b[39m \u001b[38;5;28mself\u001b[39m.symbolTable.pushScope()\n\u001b[32m   3287\u001b[39m \u001b[38;5;28mself\u001b[39m.symbolTable.add(node.target.id, iterVar)\n\u001b[32m-> \u001b[39m\u001b[32m3288\u001b[39m \u001b[43m[\u001b[49m\u001b[38;5;28;43mself\u001b[39;49m\u001b[43m.\u001b[49m\u001b[43mvisit\u001b[49m\u001b[43m(\u001b[49m\u001b[43mb\u001b[49m\u001b[43m)\u001b[49m\u001b[43m \u001b[49m\u001b[38;5;28;43;01mfor\u001b[39;49;00m\u001b[43m \u001b[49m\u001b[43mb\u001b[49m\u001b[43m \u001b[49m\u001b[38;5;129;43;01min\u001b[39;49;00m\u001b[43m \u001b[49m\u001b[43mnode\u001b[49m\u001b[43m.\u001b[49m\u001b[43mbody\u001b[49m\u001b[43m]\u001b[49m\n\u001b[32m   3289\u001b[39m \u001b[38;5;28mself\u001b[39m.symbolTable.popScope()\n",
      "\u001b[36mFile \u001b[39m\u001b[32m~/miniconda3/envs/cudaq_env/lib/python3.11/site-packages/cudaq/kernel/ast_bridge.py:3288\u001b[39m, in \u001b[36m<listcomp>\u001b[39m\u001b[34m(.0)\u001b[39m\n\u001b[32m   3286\u001b[39m \u001b[38;5;28mself\u001b[39m.symbolTable.pushScope()\n\u001b[32m   3287\u001b[39m \u001b[38;5;28mself\u001b[39m.symbolTable.add(node.target.id, iterVar)\n\u001b[32m-> \u001b[39m\u001b[32m3288\u001b[39m [\u001b[38;5;28;43mself\u001b[39;49m\u001b[43m.\u001b[49m\u001b[43mvisit\u001b[49m\u001b[43m(\u001b[49m\u001b[43mb\u001b[49m\u001b[43m)\u001b[49m \u001b[38;5;28;01mfor\u001b[39;00m b \u001b[38;5;129;01min\u001b[39;00m node.body]\n\u001b[32m   3289\u001b[39m \u001b[38;5;28mself\u001b[39m.symbolTable.popScope()\n",
      "\u001b[36mFile \u001b[39m\u001b[32m~/miniconda3/envs/cudaq_env/lib/python3.11/ast.py:418\u001b[39m, in \u001b[36mNodeVisitor.visit\u001b[39m\u001b[34m(self, node)\u001b[39m\n\u001b[32m    416\u001b[39m method = \u001b[33m'\u001b[39m\u001b[33mvisit_\u001b[39m\u001b[33m'\u001b[39m + node.\u001b[34m__class__\u001b[39m.\u001b[34m__name__\u001b[39m\n\u001b[32m    417\u001b[39m visitor = \u001b[38;5;28mgetattr\u001b[39m(\u001b[38;5;28mself\u001b[39m, method, \u001b[38;5;28mself\u001b[39m.generic_visit)\n\u001b[32m--> \u001b[39m\u001b[32m418\u001b[39m \u001b[38;5;28;01mreturn\u001b[39;00m \u001b[43mvisitor\u001b[49m\u001b[43m(\u001b[49m\u001b[43mnode\u001b[49m\u001b[43m)\u001b[49m\n",
      "\u001b[36mFile \u001b[39m\u001b[32m~/miniconda3/envs/cudaq_env/lib/python3.11/site-packages/cudaq/kernel/ast_bridge.py:3291\u001b[39m, in \u001b[36mPyASTBridge.visit_For\u001b[39m\u001b[34m(self, node)\u001b[39m\n\u001b[32m   3288\u001b[39m             [\u001b[38;5;28mself\u001b[39m.visit(b) \u001b[38;5;28;01mfor\u001b[39;00m b \u001b[38;5;129;01min\u001b[39;00m node.body]\n\u001b[32m   3289\u001b[39m             \u001b[38;5;28mself\u001b[39m.symbolTable.popScope()\n\u001b[32m-> \u001b[39m\u001b[32m3291\u001b[39m         \u001b[38;5;28;43mself\u001b[39;49m\u001b[43m.\u001b[49m\u001b[43mcreateInvariantForLoop\u001b[49m\u001b[43m(\u001b[49m\u001b[43mendVal\u001b[49m\u001b[43m,\u001b[49m\n\u001b[32m   3292\u001b[39m \u001b[43m                                    \u001b[49m\u001b[43mbodyBuilder\u001b[49m\u001b[43m,\u001b[49m\n\u001b[32m   3293\u001b[39m \u001b[43m                                    \u001b[49m\u001b[43mstartVal\u001b[49m\u001b[43m=\u001b[49m\u001b[43mstartVal\u001b[49m\u001b[43m,\u001b[49m\n\u001b[32m   3294\u001b[39m \u001b[43m                                    \u001b[49m\u001b[43mstepVal\u001b[49m\u001b[43m=\u001b[49m\u001b[43mstepVal\u001b[49m\u001b[43m,\u001b[49m\n\u001b[32m   3295\u001b[39m \u001b[43m                                    \u001b[49m\u001b[43misDecrementing\u001b[49m\u001b[43m=\u001b[49m\u001b[43misDecrementing\u001b[49m\u001b[43m)\u001b[49m\n\u001b[32m   3296\u001b[39m         \u001b[38;5;28;01mreturn\u001b[39;00m\n\u001b[32m   3298\u001b[39m \u001b[38;5;66;03m# We can simplify `for i,j in enumerate(L)` MLIR code immensely\u001b[39;00m\n\u001b[32m   3299\u001b[39m \u001b[38;5;66;03m# by just building a for loop over the iterable object L and using\u001b[39;00m\n\u001b[32m   3300\u001b[39m \u001b[38;5;66;03m# the index into that iterable and the element.\u001b[39;00m\n",
      "\u001b[36mFile \u001b[39m\u001b[32m~/miniconda3/envs/cudaq_env/lib/python3.11/site-packages/cudaq/kernel/ast_bridge.py:830\u001b[39m, in \u001b[36mPyASTBridge.createInvariantForLoop\u001b[39m\u001b[34m(self, endVal, bodyBuilder, startVal, stepVal, isDecrementing)\u001b[39m\n\u001b[32m    828\u001b[39m \u001b[38;5;28mself\u001b[39m.symbolTable.pushScope()\n\u001b[32m    829\u001b[39m \u001b[38;5;28mself\u001b[39m.pushForBodyStack(bodyBlock.arguments)\n\u001b[32m--> \u001b[39m\u001b[32m830\u001b[39m \u001b[43mbodyBuilder\u001b[49m\u001b[43m(\u001b[49m\u001b[43mbodyBlock\u001b[49m\u001b[43m.\u001b[49m\u001b[43marguments\u001b[49m\u001b[43m[\u001b[49m\u001b[32;43m0\u001b[39;49m\u001b[43m]\u001b[49m\u001b[43m)\u001b[49m\n\u001b[32m    831\u001b[39m \u001b[38;5;28;01mif\u001b[39;00m \u001b[38;5;129;01mnot\u001b[39;00m \u001b[38;5;28mself\u001b[39m.hasTerminator(bodyBlock):\n\u001b[32m    832\u001b[39m     cc.ContinueOp(bodyBlock.arguments)\n",
      "\u001b[36mFile \u001b[39m\u001b[32m~/miniconda3/envs/cudaq_env/lib/python3.11/site-packages/cudaq/kernel/ast_bridge.py:3288\u001b[39m, in \u001b[36mPyASTBridge.visit_For.<locals>.bodyBuilder\u001b[39m\u001b[34m(iterVar)\u001b[39m\n\u001b[32m   3286\u001b[39m \u001b[38;5;28mself\u001b[39m.symbolTable.pushScope()\n\u001b[32m   3287\u001b[39m \u001b[38;5;28mself\u001b[39m.symbolTable.add(node.target.id, iterVar)\n\u001b[32m-> \u001b[39m\u001b[32m3288\u001b[39m \u001b[43m[\u001b[49m\u001b[38;5;28;43mself\u001b[39;49m\u001b[43m.\u001b[49m\u001b[43mvisit\u001b[49m\u001b[43m(\u001b[49m\u001b[43mb\u001b[49m\u001b[43m)\u001b[49m\u001b[43m \u001b[49m\u001b[38;5;28;43;01mfor\u001b[39;49;00m\u001b[43m \u001b[49m\u001b[43mb\u001b[49m\u001b[43m \u001b[49m\u001b[38;5;129;43;01min\u001b[39;49;00m\u001b[43m \u001b[49m\u001b[43mnode\u001b[49m\u001b[43m.\u001b[49m\u001b[43mbody\u001b[49m\u001b[43m]\u001b[49m\n\u001b[32m   3289\u001b[39m \u001b[38;5;28mself\u001b[39m.symbolTable.popScope()\n",
      "\u001b[36mFile \u001b[39m\u001b[32m~/miniconda3/envs/cudaq_env/lib/python3.11/site-packages/cudaq/kernel/ast_bridge.py:3288\u001b[39m, in \u001b[36m<listcomp>\u001b[39m\u001b[34m(.0)\u001b[39m\n\u001b[32m   3286\u001b[39m \u001b[38;5;28mself\u001b[39m.symbolTable.pushScope()\n\u001b[32m   3287\u001b[39m \u001b[38;5;28mself\u001b[39m.symbolTable.add(node.target.id, iterVar)\n\u001b[32m-> \u001b[39m\u001b[32m3288\u001b[39m [\u001b[38;5;28;43mself\u001b[39;49m\u001b[43m.\u001b[49m\u001b[43mvisit\u001b[49m\u001b[43m(\u001b[49m\u001b[43mb\u001b[49m\u001b[43m)\u001b[49m \u001b[38;5;28;01mfor\u001b[39;00m b \u001b[38;5;129;01min\u001b[39;00m node.body]\n\u001b[32m   3289\u001b[39m \u001b[38;5;28mself\u001b[39m.symbolTable.popScope()\n",
      "\u001b[36mFile \u001b[39m\u001b[32m~/miniconda3/envs/cudaq_env/lib/python3.11/ast.py:418\u001b[39m, in \u001b[36mNodeVisitor.visit\u001b[39m\u001b[34m(self, node)\u001b[39m\n\u001b[32m    416\u001b[39m method = \u001b[33m'\u001b[39m\u001b[33mvisit_\u001b[39m\u001b[33m'\u001b[39m + node.\u001b[34m__class__\u001b[39m.\u001b[34m__name__\u001b[39m\n\u001b[32m    417\u001b[39m visitor = \u001b[38;5;28mgetattr\u001b[39m(\u001b[38;5;28mself\u001b[39m, method, \u001b[38;5;28mself\u001b[39m.generic_visit)\n\u001b[32m--> \u001b[39m\u001b[32m418\u001b[39m \u001b[38;5;28;01mreturn\u001b[39;00m \u001b[43mvisitor\u001b[49m\u001b[43m(\u001b[49m\u001b[43mnode\u001b[49m\u001b[43m)\u001b[49m\n",
      "\u001b[36mFile \u001b[39m\u001b[32m~/miniconda3/envs/cudaq_env/lib/python3.11/site-packages/cudaq/kernel/ast_bridge.py:1092\u001b[39m, in \u001b[36mPyASTBridge.visit_Expr\u001b[39m\u001b[34m(self, node)\u001b[39m\n\u001b[32m   1089\u001b[39m     \u001b[38;5;28;01mif\u001b[39;00m \u001b[38;5;28misinstance\u001b[39m(constant.value, \u001b[38;5;28mstr\u001b[39m):\n\u001b[32m   1090\u001b[39m         \u001b[38;5;28;01mreturn\u001b[39;00m\n\u001b[32m-> \u001b[39m\u001b[32m1092\u001b[39m \u001b[38;5;28;43mself\u001b[39;49m\u001b[43m.\u001b[49m\u001b[43mvisit\u001b[49m\u001b[43m(\u001b[49m\u001b[43mnode\u001b[49m\u001b[43m.\u001b[49m\u001b[43mvalue\u001b[49m\u001b[43m)\u001b[49m\n",
      "\u001b[36mFile \u001b[39m\u001b[32m~/miniconda3/envs/cudaq_env/lib/python3.11/ast.py:418\u001b[39m, in \u001b[36mNodeVisitor.visit\u001b[39m\u001b[34m(self, node)\u001b[39m\n\u001b[32m    416\u001b[39m method = \u001b[33m'\u001b[39m\u001b[33mvisit_\u001b[39m\u001b[33m'\u001b[39m + node.\u001b[34m__class__\u001b[39m.\u001b[34m__name__\u001b[39m\n\u001b[32m    417\u001b[39m visitor = \u001b[38;5;28mgetattr\u001b[39m(\u001b[38;5;28mself\u001b[39m, method, \u001b[38;5;28mself\u001b[39m.generic_visit)\n\u001b[32m--> \u001b[39m\u001b[32m418\u001b[39m \u001b[38;5;28;01mreturn\u001b[39;00m \u001b[43mvisitor\u001b[49m\u001b[43m(\u001b[49m\u001b[43mnode\u001b[49m\u001b[43m)\u001b[49m\n",
      "\u001b[36mFile \u001b[39m\u001b[32m~/miniconda3/envs/cudaq_env/lib/python3.11/site-packages/cudaq/kernel/ast_bridge.py:2135\u001b[39m, in \u001b[36mPyASTBridge.visit_Call\u001b[39m\u001b[34m(self, node)\u001b[39m\n\u001b[32m   2132\u001b[39m         \u001b[38;5;28;01mreturn\u001b[39;00m\n\u001b[32m   2134\u001b[39m     \u001b[38;5;28;01melse\u001b[39;00m:\n\u001b[32m-> \u001b[39m\u001b[32m2135\u001b[39m         \u001b[38;5;28;43mself\u001b[39;49m\u001b[43m.\u001b[49m\u001b[43memitFatalError\u001b[49m\u001b[43m(\u001b[49m\n\u001b[32m   2136\u001b[39m \u001b[43m            \u001b[49m\u001b[33;43m\"\u001b[39;49m\u001b[33;43munhandled function call - \u001b[39;49m\u001b[38;5;132;43;01m{}\u001b[39;49;00m\u001b[33;43m, known kernels are \u001b[39;49m\u001b[38;5;132;43;01m{}\u001b[39;49;00m\u001b[33;43m\"\u001b[39;49m\u001b[43m.\u001b[49m\u001b[43mformat\u001b[49m\u001b[43m(\u001b[49m\n\u001b[32m   2137\u001b[39m \u001b[43m                \u001b[49m\u001b[43mnode\u001b[49m\u001b[43m.\u001b[49m\u001b[43mfunc\u001b[49m\u001b[43m.\u001b[49m\u001b[43mid\u001b[49m\u001b[43m,\u001b[49m\u001b[43m \u001b[49m\u001b[43mglobalKernelRegistry\u001b[49m\u001b[43m.\u001b[49m\u001b[43mkeys\u001b[49m\u001b[43m(\u001b[49m\u001b[43m)\u001b[49m\u001b[43m)\u001b[49m\u001b[43m,\u001b[49m\u001b[43m \u001b[49m\u001b[43mnode\u001b[49m\u001b[43m)\u001b[49m\n\u001b[32m   2139\u001b[39m \u001b[38;5;28;01melif\u001b[39;00m \u001b[38;5;28misinstance\u001b[39m(node.func, ast.Attribute):\n\u001b[32m   2140\u001b[39m     \u001b[38;5;28;01mif\u001b[39;00m node.func.value.id \u001b[38;5;129;01min\u001b[39;00m [\u001b[33m'\u001b[39m\u001b[33mnumpy\u001b[39m\u001b[33m'\u001b[39m, \u001b[33m'\u001b[39m\u001b[33mnp\u001b[39m\u001b[33m'\u001b[39m]:\n",
      "\u001b[36mFile \u001b[39m\u001b[32m~/miniconda3/envs/cudaq_env/lib/python3.11/site-packages/cudaq/kernel/ast_bridge.py:229\u001b[39m, in \u001b[36mPyASTBridge.emitFatalError\u001b[39m\u001b[34m(self, msg, astNode)\u001b[39m\n\u001b[32m    223\u001b[39m \u001b[38;5;28mprint\u001b[39m(Color.BOLD, end=\u001b[33m'\u001b[39m\u001b[33m'\u001b[39m)\n\u001b[32m    224\u001b[39m msg = codeFile + \u001b[33m\"\u001b[39m\u001b[33m:\u001b[39m\u001b[33m\"\u001b[39m + \u001b[38;5;28mstr\u001b[39m(\n\u001b[32m    225\u001b[39m     lineNumber\n\u001b[32m    226\u001b[39m ) + \u001b[33m\"\u001b[39m\u001b[33m: \u001b[39m\u001b[33m\"\u001b[39m + Color.RED + \u001b[33m\"\u001b[39m\u001b[33merror: \u001b[39m\u001b[33m\"\u001b[39m + Color.END + Color.BOLD + msg + (\n\u001b[32m    227\u001b[39m     \u001b[33m\"\u001b[39m\u001b[38;5;130;01m\\n\u001b[39;00m\u001b[38;5;130;01m\\t\u001b[39;00m\u001b[33m (offending source -> \u001b[39m\u001b[33m\"\u001b[39m + ast.unparse(astNode) + \u001b[33m\"\u001b[39m\u001b[33m)\u001b[39m\u001b[33m\"\u001b[39m \u001b[38;5;28;01mif\u001b[39;00m\n\u001b[32m    228\u001b[39m     \u001b[38;5;28mhasattr\u001b[39m(ast, \u001b[33m'\u001b[39m\u001b[33munparse\u001b[39m\u001b[33m'\u001b[39m) \u001b[38;5;129;01mand\u001b[39;00m astNode \u001b[38;5;129;01mis\u001b[39;00m \u001b[38;5;129;01mnot\u001b[39;00m \u001b[38;5;28;01mNone\u001b[39;00m \u001b[38;5;28;01melse\u001b[39;00m \u001b[33m'\u001b[39m\u001b[33m'\u001b[39m) + Color.END\n\u001b[32m--> \u001b[39m\u001b[32m229\u001b[39m \u001b[38;5;28;01mraise\u001b[39;00m CompilerError(msg)\n",
      "\u001b[31mCompilerError\u001b[39m: 918696350.py:20: \u001b[91merror: \u001b[0m\u001b[1munhandled function call - rzz, known kernels are dict_keys(['dc_qaoa'])\n\t (offending source -> rzz(thetas[count], qubits[i], qubits[(i + 1) % qubit_num]))\u001b[0m"
     ]
    }
   ],
   "source": [
    "shots = 20000\n",
    "\n",
    "counts = cudaq.sample(ma_qaoa,\n",
    "                      qubit_num,\n",
    "                      mal_num_layers,\n",
    "                      optimal_parameters,\n",
    "                      coef,\n",
    "                      words,\n",
    "                      shots_count=shots)\n",
    "\n",
    "print('Counts:', counts)\n",
    "\n",
    "print('The MWCP is given by the partition:', counts.most_probable())"
   ]
  },
  {
   "cell_type": "code",
   "execution_count": null,
   "id": "6f87d94a",
   "metadata": {},
   "outputs": [
    {
     "data": {
      "image/png": "[encoded data removed]",
      "text/plain": [
       "<Figure size 640x480 with 1 Axes>"
      ]
     },
     "metadata": {},
     "output_type": "display_data"
    }
   ],
   "source": [
    "import matplotlib.pyplot as plt\n",
    "\n",
    "x_values = list(range(len(cost_values)))\n",
    "y_values = cost_values\n",
    "\n",
    "plt.plot(x_values, y_values)\n",
    "\n",
    "plt.xlabel(\"Epochs\")\n",
    "plt.ylabel(\"Cost Value\")\n",
    "plt.show()"
   ]
  }
 ],
 "metadata": {
  "kernelspec": {
   "display_name": "cudaq_env",
   "language": "python",
   "name": "python3"
  },
  "language_info": {
   "codemirror_mode": {
    "name": "ipython",
    "version": 3
   },
   "file_extension": ".py",
   "mimetype": "text/x-python",
   "name": "python",
   "nbconvert_exporter": "python",
   "pygments_lexer": "ipython3",
   "version": "3.11.8"
  }
 },
 "nbformat": 4,
 "nbformat_minor": 5
}
