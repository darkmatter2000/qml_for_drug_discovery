{
 "cells": [
  {
   "cell_type": "markdown",
   "id": "59c005a8",
   "metadata": {},
   "source": [
    "# Presentation\n",
    " Dans ce [tutoreil de Cudaq](https://nvidia.github.io/cuda-quantum/latest/applications/python/digitized_counterdiabatic_qaoa.html). ils proposent une implémentation de l'algorothme DC-QAOA sur un probléme de docking moléculaire tel que presenté dans l'article [Molecular docking via quantum approximate optimization algorithm](https://arxiv.org/pdf/2308.04098). \n",
    "\n",
    " DC- QAOA pour digitized-counterdiabatic quantum approximate optimization algorithms est une variante de l'algorithme QAOA. Dans cette variante , une couche supplémentaire de porte $R_{y}(\\theta)$ est ajouté en plus des blocs *mixer* et *cost_hamiltonian* habituel. le rôle de ce bloc est  ... ce qui à pour conséquence de better drive the optimization to the ground state.\n",
    "\n",
    " je propose dans ce notebook dans un premier temps de reprendre le tutoriel proposé de cudaq, et ensuite de faire une modification pour implémenter l'algorithme MAL-QAOA tel que proposé dans l'article [Quantum Computing for Optimizing Aircraft Loading]()"
   ]
  },
  {
   "cell_type": "markdown",
   "id": "025803ec",
   "metadata": {},
   "source": [
    "# Molecular docking via DC-QAOA"
   ]
  },
  {
   "cell_type": "code",
   "execution_count": 166,
   "id": "1c7216d4",
   "metadata": {},
   "outputs": [],
   "source": [
    "import cudaq\n",
    "from cudaq import spin\n",
    "import numpy as np"
   ]
  },
  {
   "cell_type": "code",
   "execution_count": 167,
   "id": "affa1f9f",
   "metadata": {},
   "outputs": [
    {
     "name": "stdout",
     "output_type": "stream",
     "text": [
      "Edges: [[0, 1], [0, 2], [0, 4], [0, 5], [1, 2], [1, 3], [1, 5], [2, 3], [2, 4], [3, 4], [3, 5], [4, 5]]\n",
      "Non-edges: [[0, 3], [1, 4], [2, 5]]\n"
     ]
    }
   ],
   "source": [
    "# The two graph inputs from the paper\n",
    "\n",
    "# BIG 1\n",
    "\n",
    "nodes = [0 , 1 , 2, 3, 4, 5]\n",
    "qubit_num = len(nodes)\n",
    "edges = [[0, 1], [0, 2], [0, 4], [0, 5], [1, 2], [1, 3], [1, 5], [2, 3], [2, 4],\n",
    "         [3, 4], [3, 5], [4, 5]]\n",
    "\n",
    "non_edges = [\n",
    "    [u, v] for u in nodes for v in nodes if u < v and [u, v] not in edges\n",
    "]\n",
    "\n",
    "print('Edges:', edges)\n",
    "print('Non-edges:', non_edges)\n",
    "\n",
    "weights = [0.6686, 0.6686, 0.6686, 0.1453, 0.1453, 0.1453]\n",
    "penalty = 6.0\n",
    "num_layers = 1#1#3\n",
    "\n",
    "mal_num_layers = 1\n"
   ]
  },
  {
   "cell_type": "code",
   "execution_count": 168,
   "id": "5d8fd356",
   "metadata": {},
   "outputs": [],
   "source": [
    "# Generate the Hamiltonian\n",
    "\n",
    "# Generate the Hamiltonian\n",
    "def ham_clique(penalty, nodes, weights, non_edges) -> cudaq.SpinOperator:\n",
    "\n",
    "    spin_ham = 0\n",
    "    for wt, node in zip(weights, nodes):\n",
    "        #print(wt,node)\n",
    "        spin_ham += 0.5 * wt * spin.z(node)\n",
    "        spin_ham -= 0.5 * wt * spin.i(node)\n",
    "\n",
    "    for non_edge in non_edges:\n",
    "        u, v = (non_edge[0], non_edge[1])\n",
    "        #print(u,v)\n",
    "        spin_ham += penalty / 4.0 * (spin.z(u) * spin.z(v) - spin.z(u) -\n",
    "                                     spin.z(v) + spin.i(u) * spin.i(v))\n",
    "\n",
    "    return spin_ham\n",
    "    # for wt, node in zip(weights, nodes):\n",
    "    #     term1 = cudaq.SpinOperator(0.5 * wt * spin.z(node))\n",
    "    #     term2 = cudaq.SpinOperator(0.5 * wt * spin.i(node))\n",
    "    #     spin_ham += term1 - term2\n",
    "\n",
    "    # for u, v in non_edges:\n",
    "    #     term1 = cudaq.SpinOperator(penalty / 4.0 * spin.z(u) * spin.z(v))\n",
    "    #     term2 = cudaq.SpinOperator(penalty / 4.0 * spin.z(u))\n",
    "    #     term3 = cudaq.SpinOperator(penalty / 4.0 * spin.z(v))\n",
    "    #     term4 = cudaq.SpinOperator(penalty / 4.0 * spin.i(u) * spin.i(v))\n",
    "    #     spin_ham += term1 - term2 - term3 + term4\n",
    "    \n",
    "   # return spin_ham"
   ]
  },
  {
   "cell_type": "code",
   "execution_count": 169,
   "id": "e95728d4",
   "metadata": {},
   "outputs": [
    {
     "name": "stdout",
     "output_type": "stream",
     "text": [
      "(0+0i) + (-1.1657+0i) * Z0 + (-0.3343+0i) * I0 + (-1.1657+0i) * Z1 + (-0.3343+0i) * I1 + (-1.1657+0i) * Z2 + (-0.3343+0i) * I2 + (-1.42735+0i) * Z3 + (-0.07265+0i) * I3 + (-1.42735+0i) * Z4 + (-0.07265+0i) * I4 + (-1.42735+0i) * Z5 + (-0.07265+0i) * I5 + (1.5+0i) * Z0Z3 + (1.5+0i) * I0I3 + (1.5+0i) * Z1Z4 + (1.5+0i) * I1I4 + (1.5+0i) * Z2Z5 + (1.5+0i) * I2I5\n",
      "[0j, (-1.1657+0j), (-0.3343-0j), (-1.1657+0j), (-0.3343-0j), (-1.1657+0j), (-0.3343-0j), (-1.42735+0j), (-0.07265-0j), (-1.42735+0j), (-0.07265-0j), (-1.42735+0j), (-0.07265-0j), (1.5+0j), (1.5+0j), (1.5+0j), (1.5+0j), (1.5+0j), (1.5+0j)]\n",
      "['IIIIII', 'ZIIIII', 'IIIIII', 'IZIIII', 'IIIIII', 'IIZIII', 'IIIIII', 'IIIZII', 'IIIIII', 'IIIIZI', 'IIIIII', 'IIIIIZ', 'IIIIII', 'ZIIZII', 'IIIIII', 'IZIIZI', 'IIIIII', 'IIZIIZ', 'IIIIII']\n"
     ]
    }
   ],
   "source": [
    "# collect coefficients from a spin operator so we can pass them to a kernel\n",
    "\n",
    "def term_coefficients(ham: cudaq.SpinOperator) -> list[complex]:\n",
    "    result = []\n",
    "    for term in ham:\n",
    "        result.append(term.evaluate_coefficient())\n",
    "        #result.append(term.get_coefficient())\n",
    "    return result\n",
    "\n",
    "    # collect Pauli words from a spin operator so we can pass them to a kernel\n",
    "\n",
    "\n",
    "def term_words(ham: cudaq.SpinOperator) -> list[str]:\n",
    "    # Our kernel uses these words to apply exp_pauli to the entire state\n",
    "    # we hence ensure that each pauli word covers the entire space.\n",
    "\n",
    "    result = []\n",
    "    for term in ham:\n",
    "        result.append(term.get_pauli_word(qubit_num))\n",
    "    return result\n",
    "\n",
    "\n",
    "ham = ham_clique(penalty, nodes, weights, non_edges)\n",
    "print(ham)\n",
    "\n",
    "coef = term_coefficients(ham)\n",
    "words = term_words(ham)\n",
    "\n",
    "print(term_coefficients(ham))\n",
    "print(term_words(ham))"
   ]
  },
  {
   "cell_type": "code",
   "execution_count": 170,
   "id": "e4acfdf1",
   "metadata": {},
   "outputs": [],
   "source": [
    "@cudaq.kernel\n",
    "def dc_qaoa(qubit_num:int , num_layers:int , thetas:list[float],\\\n",
    "            coef:list[complex] , words:list[cudaq.pauli_word]):\n",
    "    \n",
    "    qubits = cudaq.qvector(qubit_num)\n",
    "    h(qubits)\n",
    "\n",
    "    count = 0\n",
    "    for p in range(num_layers):\n",
    "        for j in range(qubit_num):\n",
    "            rx(thetas[count] , qubits[j])\n",
    "            count += 1\n",
    "\n",
    "        for k in range(qubit_num):\n",
    "            ry(thetas[count] , qubits[k])\n",
    "            count += 1\n",
    "\n",
    "        for i in range(len(coef)):\n",
    "            exp_pauli(thetas[count] * coef[i].real , qubits , words[i])\n",
    "            count += 1\n",
    "        \n",
    "        # for i in range(len(coef)):\n",
    "        #     exp_pauli(thetas[count] * coef[i].real , qubits , words[i])\n",
    "        #     count += 1\n",
    "        # for j in range(qubit_num):\n",
    "        #     rx(thetas[count] , qubits[j])\n",
    "        #     count += 1\n",
    "\n",
    "        # # Comment out this loop for conventional QAOA\n",
    "        # for k in range(qubit_num):\n",
    "        #     ry(thetas[count] , qubits[k])\n",
    "        #     count += 1\n",
    "            "
   ]
  },
  {
   "cell_type": "code",
   "execution_count": 171,
   "id": "236d36d8",
   "metadata": {},
   "outputs": [
    {
     "name": "stdout",
     "output_type": "stream",
     "text": [
      "Total number fo parameters: 31\n",
      "Initial parameters: [-0.09853596023734362, 0.3539901884713029, 0.18220761581801204, 0.07748619229192871, -0.27016232803946766, -0.2701812719266047, -0.3470803193783306, 0.2875940723715904, 0.07941554451502764, 0.16341982045438685, -0.3765320576843356, 0.36906633485039675, 0.2610998395196489, -0.22592833415455854, -0.24989408639446606, -0.24865351650102802, -0.15374778285038299, 0.019443655936234094, -0.053450257368529874, -0.16396824985936403, 0.08784905808564497, -0.2831408597373909, -0.16324921129277079, -0.10495916283695494, -0.03450255371396088, 0.22397667632317453, -0.23587565991292622, 0.011179701787044638, 0.07258223265541519, -0.35621701285938445, 0.08446552916624028]\n"
     ]
    }
   ],
   "source": [
    "# Specify the optimizer and its initials parameters\n",
    "optimizer = cudaq.optimizers.NelderMead()\n",
    "#optimizer = cudaq.optimizers.ScipyOptimizer('L-BFGS-B')\n",
    "#optimizer = cudaq.optimizers.COBYLA()\n",
    "\n",
    "\n",
    "# Specify random seeds\n",
    "np.random.seed(42)\n",
    "cudaq.set_random_seed(42)\n",
    "\n",
    "parameter_count = (2* qubit_num + len(coef)) * num_layers\n",
    "\n",
    "print('Total number fo parameters:', parameter_count)\n",
    "optimizer.initial_parameters = np.random.uniform(-np.pi/8 , np.pi/8 , parameter_count)\n",
    "#optimizer.initial_parameters = np.random.uniform(0 , np.pi/8 , parameters_count)\n",
    "\n",
    "print('Initial parameters:', optimizer.initial_parameters)"
   ]
  },
  {
   "cell_type": "code",
   "execution_count": 172,
   "id": "f0a45b6b",
   "metadata": {},
   "outputs": [
    {
     "name": "stdout",
     "output_type": "stream",
     "text": [
      "optimal_expectation = -2.005798635103094\n",
      "optimal_parameters = [2.3457972092927935, 2.9409784343035836, 2.581010012054113, 0.6837114400062997, -1.087052813826761, -2.5459891549915374, 1.5693303117289923, 1.5705037698406012, 1.5709041475541914, -1.571066578266194, -1.57101663430781, -1.5714760848667813, 2.971447158072227, 2.9300212732175246, 0.4948876085626688, 3.0245472996401057, 1.3565006811731632, 0.4172872855295189, 0.8926465043620555, 0.1789852805743566, -0.17428512747020408, -0.3538382117462595, 0.4031230999313964, 1.5677019870419224, 1.0868038292114268, 0.2833440399112812, 0.7773747593317955, 0.4630747154661009, -0.4712884087003669, -2.4625889219112462, -1.8942981211481273]\n"
     ]
    }
   ],
   "source": [
    "cost_values = []\n",
    "\n",
    "\n",
    "def objective(parameters):\n",
    "\n",
    "    cost = cudaq.observe(dc_qaoa, ham, qubit_num, num_layers, parameters, coef,\n",
    "                         words).expectation()\n",
    "    cost_values.append(cost)\n",
    "    return cost\n",
    "\n",
    "\n",
    "# Optimize!\n",
    "optimal_expectation, optimal_parameters = optimizer.optimize(\n",
    "    dimensions=parameter_count, function=objective)\n",
    "\n",
    "print('optimal_expectation =', optimal_expectation)\n",
    "print('optimal_parameters =', optimal_parameters)"
   ]
  },
  {
   "cell_type": "code",
   "execution_count": 173,
   "id": "34cf2d77",
   "metadata": {},
   "outputs": [
    {
     "name": "stdout",
     "output_type": "stream",
     "text": [
      "Counts: { 111000:20000 }\n",
      "\n",
      "The MWCP is given by the partition: 111000\n"
     ]
    }
   ],
   "source": [
    "shots = 20000\n",
    "\n",
    "counts = cudaq.sample(dc_qaoa,\n",
    "                      qubit_num,\n",
    "                      num_layers,\n",
    "                      optimal_parameters,\n",
    "                      coef,\n",
    "                      words,\n",
    "                      shots_count=shots)\n",
    "\n",
    "print('Counts:', counts)\n",
    "\n",
    "print('The MWCP is given by the partition:', counts.most_probable())"
   ]
  },
  {
   "cell_type": "code",
   "execution_count": 174,
   "id": "697a4cd0",
   "metadata": {},
   "outputs": [
    {
     "data": {
      "image/png": "[encoded data removed]",
      "text/plain": [
       "<Figure size 640x480 with 1 Axes>"
      ]
     },
     "metadata": {},
     "output_type": "display_data"
    }
   ],
   "source": [
    "import matplotlib.pyplot as plt\n",
    "\n",
    "x_values = list(range(len(cost_values)))\n",
    "y_values = cost_values\n",
    "\n",
    "plt.plot(x_values, y_values)\n",
    "\n",
    "plt.xlabel(\"Epochs\")\n",
    "plt.ylabel(\"Cost Value\")\n",
    "plt.show()"
   ]
  },
  {
   "cell_type": "markdown",
   "id": "1704b16d",
   "metadata": {},
   "source": [
    "# Molecular docking with Mutli-Angle Layered Variational Quantum Algorithm (MAL-VQA)\n",
    "\n",
    "the project is to solve the same problem with MAL-VQA algorithm such as show in the paper [Quantum Computing for Optimizing aircraft loading](https://arxiv.org/abs/2504.01567).\n",
    "\n",
    "the main things i have to do are:\n",
    "* implément the new circuit\n",
    "la porte deux qubit Z-controled n'est pas native sur cudaq donc il faut la construire\n",
    "modifier le calcul du nombre de paramétres\n",
    "* implément the $CVaR_{\\epsilon}(X)$ cost fonction évaluation"
   ]
  },
  {
   "cell_type": "code",
   "execution_count": 175,
   "id": "c54d84c2",
   "metadata": {},
   "outputs": [],
   "source": [
    "@cudaq.kernel\n",
    "def ma_qaoa(qubit_num:int , num_layers:int  , thetas:list[float],\\\n",
    "\n",
    "            coef:list[complex] , words:list[cudaq.pauli_word]):\n",
    "    \n",
    "    #def U_bloc(p):\n",
    "        \n",
    "\n",
    "    qubits = cudaq.qvector(qubit_num)\n",
    "    h(qubits)\n",
    "\n",
    "    count = 0\n",
    "    for p in range(num_layers):\n",
    "        \n",
    "        for j in range(qubit_num):\n",
    "            rx(thetas[count] , qubits[j])\n",
    "            count += 1\n",
    "\n",
    "\n",
    "        for j in range(qubit_num):\n",
    "            ry(thetas[count] , qubits[j])\n",
    "            count += 1\n",
    "\n",
    "        # We replace add controlled and parameterized Z rotations. This represents\n",
    "        # our entanglement block.\n",
    "        # The syntax ... % qubit_num is used to create a circular loop.\n",
    "        for i in range(qubit_num):\n",
    "            rz.ctrl(thetas[count]  , qubits[i], qubits[(i+1) % qubit_num])\n",
    "            #exp_pauli(thetas[count] * coef[i].real , qubits , words[i])\n",
    "            count += 1\n",
    "\n",
    "        \n",
    "        for i in range(len(coef)):\n",
    "            exp_pauli(thetas[count] * coef[i].real , qubits , words[i])\n",
    "            count += 1\n",
    "\n",
    "\n",
    "        # for j in range(qubit_num):\n",
    "        #     rx(thetas[count] , qubits[j])\n",
    "        #     count += 1\n",
    "\n",
    "        # # Comment out this loop for conventional QAOA\n",
    "        # for k in range(qubit_num):\n",
    "        #     ry(thetas[count] , qubits[k])\n",
    "        #     count += 1\n",
    "            "
   ]
  },
  {
   "cell_type": "code",
   "execution_count": 176,
   "id": "72059d5b",
   "metadata": {},
   "outputs": [
    {
     "name": "stdout",
     "output_type": "stream",
     "text": [
      "Total number fo parameters: 31\n",
      "Initial parameters: [-0.09853596023734362, 0.3539901884713029, 0.18220761581801204, 0.07748619229192871, -0.27016232803946766, -0.2701812719266047, -0.3470803193783306, 0.2875940723715904, 0.07941554451502764, 0.16341982045438685, -0.3765320576843356, 0.36906633485039675, 0.2610998395196489, -0.22592833415455854, -0.24989408639446606, -0.24865351650102802, -0.15374778285038299, 0.019443655936234094, -0.053450257368529874, -0.16396824985936403, 0.08784905808564497, -0.2831408597373909, -0.16324921129277079, -0.10495916283695494, -0.03450255371396088, 0.22397667632317453, -0.23587565991292622, 0.011179701787044638, 0.07258223265541519, -0.35621701285938445, 0.08446552916624028]\n"
     ]
    }
   ],
   "source": [
    "# Specify the optimizer and its initials parameters\n",
    "optimizer = cudaq.optimizers.NelderMead()\n",
    "#optimizer = cudaq.optimizers.ScipyOptimizer('L-BFGS-B')\n",
    "#optimizer = cudaq.optimizers.COBYLA()\n",
    "\n",
    "\n",
    "# Specify random seeds\n",
    "np.random.seed(42)\n",
    "cudaq.set_random_seed(42)\n",
    "\n",
    "parameter_count = (2* qubit_num + len(coef)) * mal_num_layers\n",
    "\n",
    "print('Total number fo parameters:', parameter_count)\n",
    "optimizer.initial_parameters = np.random.uniform(-np.pi/8 , np.pi/8 , parameter_count)\n",
    "#optimizer.initial_parameters = np.random.uniform(0 , np.pi/8 , parameters_count)\n",
    "\n",
    "print('Initial parameters:', optimizer.initial_parameters)"
   ]
  },
  {
   "cell_type": "code",
   "execution_count": 177,
   "id": "050f3b4b",
   "metadata": {},
   "outputs": [
    {
     "name": "stdout",
     "output_type": "stream",
     "text": [
      "optimal_expectation = -2.0057995062386826\n",
      "optimal_parameters = [2.345706060555047, -2.0429961964839833, 2.649622536341912, 0.8237185262126521, -1.084759324507167, -0.8941045430535032, 1.5706275160866672, 1.570217255466078, 1.5712823570495762, -1.5702820130306907, -1.5702272961613672, -1.5704313650015211, 2.986552519839381, 0.8977999368134867, -0.44556840633797334, 0.15011805933543254, -0.22540960574629432, 1.5295251961958232, 2.7866561298196784, -0.34056575027423625, 0.1509242980878936, -1.8892747014253701, 0.989424918382768, 0.8409793544673129, 0.4526316027930483, -0.03968618005388972, 0.10463136038731305, 1.6849632649886002, -0.47582013105129795, -2.46764860585146, -0.19671389071821593]\n"
     ]
    }
   ],
   "source": [
    "cost_values = []\n",
    "\n",
    "\n",
    "def objective(parameters):\n",
    "\n",
    "    #cost = cudaq.observe(ma_qaoa, ham, qubit_num, mal_num_layers, parameters).expectation()\n",
    "    cost = cudaq.observe(ma_qaoa, ham, qubit_num, mal_num_layers, parameters, coef,\n",
    "                         words).expectation()\n",
    "    cost_values.append(cost)\n",
    "    return cost\n",
    "\n",
    "\n",
    "# Optimize!\n",
    "optimal_expectation, optimal_parameters = optimizer.optimize(\n",
    "    dimensions=parameter_count, function=objective)\n",
    "\n",
    "print('optimal_expectation =', optimal_expectation)\n",
    "print('optimal_parameters =', optimal_parameters)\n"
   ]
  },
  {
   "cell_type": "code",
   "execution_count": 178,
   "id": "bb7cf0b8",
   "metadata": {},
   "outputs": [
    {
     "name": "stdout",
     "output_type": "stream",
     "text": [
      "Counts: { 111000:20000 }\n",
      "\n",
      "The MWCP is given by the partition: 111000\n"
     ]
    }
   ],
   "source": [
    "shots = 20000\n",
    "\n",
    "counts = cudaq.sample(ma_qaoa,\n",
    "                      qubit_num,\n",
    "                      mal_num_layers,\n",
    "                      optimal_parameters,\n",
    "                      coef,\n",
    "                      words,\n",
    "                      shots_count=shots)\n",
    "\n",
    "print('Counts:', counts)\n",
    "\n",
    "print('The MWCP is given by the partition:', counts.most_probable())"
   ]
  },
  {
   "cell_type": "code",
   "execution_count": 179,
   "id": "6f87d94a",
   "metadata": {},
   "outputs": [
    {
     "data": {
      "image/png": "[encoded data removed]",
      "text/plain": [
       "<Figure size 640x480 with 1 Axes>"
      ]
     },
     "metadata": {},
     "output_type": "display_data"
    }
   ],
   "source": [
    "import matplotlib.pyplot as plt\n",
    "\n",
    "x_values = list(range(len(cost_values)))\n",
    "y_values = cost_values\n",
    "\n",
    "plt.plot(x_values, y_values)\n",
    "\n",
    "plt.xlabel(\"Epochs\")\n",
    "plt.ylabel(\"Cost Value\")\n",
    "plt.show()"
   ]
  }
 ],
 "metadata": {
  "kernelspec": {
   "display_name": "cudaq_env",
   "language": "python",
   "name": "python3"
  },
  "language_info": {
   "codemirror_mode": {
    "name": "ipython",
    "version": 3
   },
   "file_extension": ".py",
   "mimetype": "text/x-python",
   "name": "python",
   "nbconvert_exporter": "python",
   "pygments_lexer": "ipython3",
   "version": "3.11.8"
  }
 },
 "nbformat": 4,
 "nbformat_minor": 5
}
