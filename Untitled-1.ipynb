{
 "cells": [
  {
   "cell_type": "markdown",
   "id": "59c005a8",
   "metadata": {},
   "source": [
    "# Introduction\n",
    "\n",
    "**Molecular docking** refers to the process of finding the best match between a **ligand** and a **protein**, more specifically, with the **active site** of the protein. The ligand is typically a molecule derived from a drug candidate. The binding between the active site of the protein and the ligand can inhibit or activate certain functions of the protein, serving a therapeutic purpose. Finding the optimal active configuration of the protein-ligand complex is a challenging task due to the extremely large number of possible configurations.\n",
    "\n",
    "In the tutorial [*Molecular Docking via DC-QAOA*](https://nvidia.github.io/cuda-quantum/latest/applications/python/digitized_counterdiabatic_qaoa.html) by NVIDIA CUDA-Q, they propose using a variant of the **Quantum Approximate Optimization Algorithm (QAOA)** to tackle the problem of finding the optimal configuration. This variant is called **DC-QAOA**, where \"DC\" stands for **Digitized-Counterdiabatic**. NVIDIA's implementation is based on the paper [*Molecular Docking via Quantum Approximate Optimization Algorithm*](https://arxiv.org/pdf/2308.04098).\n",
    "\n",
    "In the preprint [*Quantum Computing for Optimizing Aircraft Loading*](https://arxiv.org/abs/2504.01567), I found another quantum optimization algorithm called **Multi-Angle Layered Variational Quantum Eigensolver (MAL-VQE)**. Its structure is quite similar to DC-QAOA, but according to the authors of that paper, MAL-VQE can yield better results compared to standard QAOA.\n",
    "\n",
    "In this notebook, I implement the **MAL-VQE algorithm** for the **molecular docking** problem.\n",
    "\n",
    "I first reproduce the DC-QAOA tutorial provided by NVIDIA CUDA-Q, then adapt it to implement MAL-VQE.\n"
   ]
  },
  {
   "cell_type": "markdown",
   "id": "025803ec",
   "metadata": {},
   "source": [
    "# 1. Molecular docking via DC-QAOA"
   ]
  },
  {
   "cell_type": "code",
   "execution_count": 149,
   "id": "1c7216d4",
   "metadata": {},
   "outputs": [],
   "source": [
    "import cudaq\n",
    "from cudaq import spin\n",
    "import numpy as np"
   ]
  },
  {
   "cell_type": "code",
   "execution_count": 150,
   "id": "affa1f9f",
   "metadata": {},
   "outputs": [
    {
     "name": "stdout",
     "output_type": "stream",
     "text": [
      "Edges: [[0, 1], [0, 2], [0, 4], [0, 5], [1, 2], [1, 3], [1, 5], [2, 3], [2, 4], [3, 4], [3, 5], [4, 5]]\n",
      "Non-edges: [[0, 3], [1, 4], [2, 5]]\n"
     ]
    }
   ],
   "source": [
    "# The two graph inputs from the paper\n",
    "\n",
    "# BIG 1\n",
    "\n",
    "nodes = [0 , 1 , 2, 3, 4, 5]\n",
    "qubit_num = len(nodes)\n",
    "edges = [[0, 1], [0, 2], [0, 4], [0, 5], [1, 2], [1, 3], [1, 5], [2, 3], [2, 4],\n",
    "         [3, 4], [3, 5], [4, 5]]\n",
    "\n",
    "non_edges = [\n",
    "    [u, v] for u in nodes for v in nodes if u < v and [u, v] not in edges\n",
    "]\n",
    "\n",
    "print('Edges:', edges)\n",
    "print('Non-edges:', non_edges)\n",
    "\n",
    "weights = [0.6686, 0.6686, 0.6686, 0.1453, 0.1453, 0.1453]\n",
    "penalty = 6.0\n",
    "num_layers = 1\n",
    "\n",
    "mal_num_layers = 1\n"
   ]
  },
  {
   "cell_type": "code",
   "execution_count": 151,
   "id": "5d8fd356",
   "metadata": {},
   "outputs": [],
   "source": [
    "# Generate the Hamiltonian\n",
    "\n",
    "# Generate the Hamiltonian\n",
    "def ham_clique(penalty, nodes, weights, non_edges) -> cudaq.SpinOperator:\n",
    "\n",
    "    spin_ham = 0\n",
    "    for wt, node in zip(weights, nodes):\n",
    "        #print(wt,node)\n",
    "        spin_ham += 0.5 * wt * spin.z(node)\n",
    "        spin_ham -= 0.5 * wt * spin.i(node)\n",
    "\n",
    "    for non_edge in non_edges:\n",
    "        u, v = (non_edge[0], non_edge[1])\n",
    "        #print(u,v)\n",
    "        spin_ham += penalty / 4.0 * (spin.z(u) * spin.z(v) - spin.z(u) -\n",
    "                                     spin.z(v) + spin.i(u) * spin.i(v))\n",
    "\n",
    "    return spin_ham\n",
    "    # for wt, node in zip(weights, nodes):\n",
    "    #     term1 = cudaq.SpinOperator(0.5 * wt * spin.z(node))\n",
    "    #     term2 = cudaq.SpinOperator(0.5 * wt * spin.i(node))\n",
    "    #     spin_ham += term1 - term2\n",
    "\n",
    "    # for u, v in non_edges:\n",
    "    #     term1 = cudaq.SpinOperator(penalty / 4.0 * spin.z(u) * spin.z(v))\n",
    "    #     term2 = cudaq.SpinOperator(penalty / 4.0 * spin.z(u))\n",
    "    #     term3 = cudaq.SpinOperator(penalty / 4.0 * spin.z(v))\n",
    "    #     term4 = cudaq.SpinOperator(penalty / 4.0 * spin.i(u) * spin.i(v))\n",
    "    #     spin_ham += term1 - term2 - term3 + term4\n",
    "    \n",
    "   # return spin_ham"
   ]
  },
  {
   "cell_type": "code",
   "execution_count": 152,
   "id": "e95728d4",
   "metadata": {},
   "outputs": [
    {
     "name": "stdout",
     "output_type": "stream",
     "text": [
      "(0+0i) + (-1.1657+0i) * Z0 + (-0.3343+0i) * I0 + (-1.1657+0i) * Z1 + (-0.3343+0i) * I1 + (-1.1657+0i) * Z2 + (-0.3343+0i) * I2 + (-1.42735+0i) * Z3 + (-0.07265+0i) * I3 + (-1.42735+0i) * Z4 + (-0.07265+0i) * I4 + (-1.42735+0i) * Z5 + (-0.07265+0i) * I5 + (1.5+0i) * Z0Z3 + (1.5+0i) * I0I3 + (1.5+0i) * Z1Z4 + (1.5+0i) * I1I4 + (1.5+0i) * Z2Z5 + (1.5+0i) * I2I5\n",
      "[0j, (-1.1657+0j), (-0.3343-0j), (-1.1657+0j), (-0.3343-0j), (-1.1657+0j), (-0.3343-0j), (-1.42735+0j), (-0.07265-0j), (-1.42735+0j), (-0.07265-0j), (-1.42735+0j), (-0.07265-0j), (1.5+0j), (1.5+0j), (1.5+0j), (1.5+0j), (1.5+0j), (1.5+0j)]\n",
      "['IIIIII', 'ZIIIII', 'IIIIII', 'IZIIII', 'IIIIII', 'IIZIII', 'IIIIII', 'IIIZII', 'IIIIII', 'IIIIZI', 'IIIIII', 'IIIIIZ', 'IIIIII', 'ZIIZII', 'IIIIII', 'IZIIZI', 'IIIIII', 'IIZIIZ', 'IIIIII']\n"
     ]
    }
   ],
   "source": [
    "# collect coefficients from a spin operator so we can pass them to a kernel\n",
    "\n",
    "def term_coefficients(ham: cudaq.SpinOperator) -> list[complex]:\n",
    "    result = []\n",
    "    for term in ham:\n",
    "        result.append(term.evaluate_coefficient())\n",
    "        #result.append(term.get_coefficient())\n",
    "    return result\n",
    "\n",
    "    # collect Pauli words from a spin operator so we can pass them to a kernel\n",
    "\n",
    "\n",
    "def term_words(ham: cudaq.SpinOperator) -> list[str]:\n",
    "    # Our kernel uses these words to apply exp_pauli to the entire state\n",
    "    # we hence ensure that each pauli word covers the entire space.\n",
    "\n",
    "    result = []\n",
    "    for term in ham:\n",
    "        result.append(term.get_pauli_word(qubit_num))\n",
    "    return result\n",
    "\n",
    "\n",
    "ham = ham_clique(penalty, nodes, weights, non_edges)\n",
    "print(ham)\n",
    "\n",
    "coef = term_coefficients(ham)\n",
    "words = term_words(ham)\n",
    "\n",
    "print(term_coefficients(ham))\n",
    "print(term_words(ham))"
   ]
  },
  {
   "cell_type": "code",
   "execution_count": 153,
   "id": "e4acfdf1",
   "metadata": {},
   "outputs": [],
   "source": [
    "@cudaq.kernel\n",
    "def dc_qaoa(qubit_num:int , num_layers:int , thetas:list[float],\\\n",
    "            coef:list[complex] , words:list[cudaq.pauli_word]):\n",
    "    \n",
    "    qubits = cudaq.qvector(qubit_num)\n",
    "    h(qubits)\n",
    "\n",
    "    count = 0\n",
    "    for p in range(num_layers):\n",
    "\n",
    "        for i in range(len(coef)):\n",
    "            exp_pauli(thetas[count] * coef[i].real , qubits , words[i])\n",
    "            count += 1\n",
    "\n",
    "        for j in range(qubit_num):\n",
    "            rx(thetas[count] , qubits[j])\n",
    "            count += 1\n",
    "\n",
    "        # Comment out this loop for conventional QAOA\n",
    "        for k in range(qubit_num):\n",
    "            ry(thetas[count] , qubits[k])\n",
    "            count += 1\n",
    "\n",
    "            "
   ]
  },
  {
   "cell_type": "code",
   "execution_count": 154,
   "id": "236d36d8",
   "metadata": {},
   "outputs": [
    {
     "name": "stdout",
     "output_type": "stream",
     "text": [
      "Total number fo parameters: 31\n",
      "Initial parameters: [-0.09853596023734362, 0.3539901884713029, 0.18220761581801204, 0.07748619229192871, -0.27016232803946766, -0.2701812719266047, -0.3470803193783306, 0.2875940723715904, 0.07941554451502764, 0.16341982045438685, -0.3765320576843356, 0.36906633485039675, 0.2610998395196489, -0.22592833415455854, -0.24989408639446606, -0.24865351650102802, -0.15374778285038299, 0.019443655936234094, -0.053450257368529874, -0.16396824985936403, 0.08784905808564497, -0.2831408597373909, -0.16324921129277079, -0.10495916283695494, -0.03450255371396088, 0.22397667632317453, -0.23587565991292622, 0.011179701787044638, 0.07258223265541519, -0.35621701285938445, 0.08446552916624028]\n"
     ]
    }
   ],
   "source": [
    "# Specify the optimizer and its initials parameters\n",
    "optimizer = cudaq.optimizers.NelderMead()\n",
    "#optimizer = cudaq.optimizers.ScipyOptimizer('L-BFGS-B')\n",
    "#optimizer = cudaq.optimizers.COBYLA()\n",
    "\n",
    "\n",
    "# Specify random seeds\n",
    "np.random.seed(42)\n",
    "cudaq.set_random_seed(42)\n",
    "\n",
    "parameter_count = (2* qubit_num + len(coef)) * num_layers\n",
    "\n",
    "print('Total number fo parameters:', parameter_count)\n",
    "optimizer.initial_parameters = np.random.uniform(-np.pi/8 , np.pi/8 , parameter_count)\n",
    "#optimizer.initial_parameters = np.random.uniform(0 , np.pi/8 , parameters_count)\n",
    "\n",
    "print('Initial parameters:', optimizer.initial_parameters)"
   ]
  },
  {
   "cell_type": "code",
   "execution_count": 155,
   "id": "f0a45b6b",
   "metadata": {},
   "outputs": [
    {
     "name": "stdout",
     "output_type": "stream",
     "text": [
      "optimal_expectation = -2.005748991843708\n",
      "optimal_parameters = [1.1465030067898225, 1.3440996776040257, -0.01675324322947698, 0.9823592458747483, -0.4026373029617069, -1.3500463049873845, -0.445358856814955, 1.279549033976933, 1.1218212911135914, 0.006041792263734147, -0.8203128054352498, 2.2007882805072203, 0.9709039833451386, -1.0453847725887577, 0.38361731985695807, -0.0015357619138332047, 0.5577469507622681, 1.0459790037675294, 2.2230592084072565, -0.47268917399155447, -1.566354428144478, -0.5491254608560728, 1.57157186192733, -1.6881957784533048, -0.36022170174570733, 1.5792761039758965, -0.7174064591209135, 1.583049341266519, -1.059708816654629, -1.5886672821847394, 1.5700477672773863]\n"
     ]
    }
   ],
   "source": [
    "cost_values = []\n",
    "\n",
    "\n",
    "def objective(parameters):\n",
    "\n",
    "    cost = cudaq.observe(dc_qaoa, ham, qubit_num, num_layers, parameters, coef,\n",
    "                         words).expectation()\n",
    "    cost_values.append(cost)\n",
    "    return cost\n",
    "\n",
    "\n",
    "# Optimize!\n",
    "optimal_expectation, optimal_parameters = optimizer.optimize(\n",
    "    dimensions=parameter_count, function=objective)\n",
    "\n",
    "print('optimal_expectation =', optimal_expectation)\n",
    "print('optimal_parameters =', optimal_parameters)"
   ]
  },
  {
   "cell_type": "code",
   "execution_count": 156,
   "id": "34cf2d77",
   "metadata": {},
   "outputs": [
    {
     "name": "stdout",
     "output_type": "stream",
     "text": [
      "Counts: { 110000:1 111000:19999 }\n",
      "\n",
      "The MWCP is given by the partition: 111000\n"
     ]
    }
   ],
   "source": [
    "shots = 20000\n",
    "\n",
    "counts = cudaq.sample(dc_qaoa,\n",
    "                      qubit_num,\n",
    "                      num_layers,\n",
    "                      optimal_parameters,\n",
    "                      coef,\n",
    "                      words,\n",
    "                      shots_count=shots)\n",
    "\n",
    "print('Counts:', counts)\n",
    "\n",
    "print('The MWCP is given by the partition:', counts.most_probable())"
   ]
  },
  {
   "cell_type": "code",
   "execution_count": 157,
   "id": "697a4cd0",
   "metadata": {},
   "outputs": [
    {
     "data": {
      "image/png": "[encoded data removed]",
      "text/plain": [
       "<Figure size 640x480 with 1 Axes>"
      ]
     },
     "metadata": {},
     "output_type": "display_data"
    }
   ],
   "source": [
    "import matplotlib.pyplot as plt\n",
    "\n",
    "x_values = list(range(len(cost_values)))\n",
    "y_values = cost_values\n",
    "\n",
    "plt.plot(x_values, y_values)\n",
    "\n",
    "plt.xlabel(\"Epochs\")\n",
    "plt.ylabel(\"Cost Value\")\n",
    "plt.show()"
   ]
  },
  {
   "cell_type": "markdown",
   "id": "1704b16d",
   "metadata": {},
   "source": [
    "## 2. Molecular Docking with Multi-Angle Layered Variational Quantum Algorithm (MAL-VQA)\n",
    "\n",
    "As mentioned in the introduction, this implementation is inspired by the paper [*Quantum Computing for Optimizing Aircraft Loading*](https://arxiv.org/abs/2504.01567).\n",
    "\n",
    "The key feature of this algorithm lies in the \"MAL\" part. Unlike the conventional QAOA algorithm, which uses only two parameters per layer, here **each term in the cost Hamiltonian and the mixer Hamiltonian is associated with a separate parameter**, and there is also a parameterized $R_Y$ gate for each gate in the mixer. Note that $R_Y$ is used as the mixer instead of the more common $R_X$.\n",
    "\n",
    "The circuit also includes a **parameterized entanglement layer**, where each gate in the layer has its own parameter. The increase in the number of parameters compared to standard QAOA is **compensated by a reduced circuit depth**, potentially leading to better convergence.\n",
    "\n",
    "The ansatz circuit is show bellow.\n",
    "\n",
    "<!-- ![MAL-VQE ansatz circuit](ansatz_circuit.jpg) -->\n",
    "\n",
    "<p align=\"center\">\n",
    "  <img src=\"ansatz_circuit.jpg\" width=\"400\" alt=\"Ansatz circuit\">\n",
    "</p>\n",
    "\n",
    "\n",
    "\n",
    "Another important modification — not strictly part of the MAL-VQA itself, but included in the method used in the paper — concerns the **cost function**. Instead of computing the expected value as:\n",
    "\n",
    "$$\n",
    "\\sum_{i}\\bra{\\psi_{i}}H\\ket{\\psi_i}\n",
    "$$\n",
    "the authors use the **Conditional Value at Risk (CVaR)** method. This choice is motivated by the goal of **improving the overlap between the final quantum state and the optimal solution**, even if that comes at the cost of a higher overall expected value. As the authors put it:\n",
    "\n",
    "> *“to improve the overlap of the final state with the optimal state at the cost of potentially having a higher expectation value.”*\n",
    "\n",
    "---\n",
    "\n",
    "\n",
    "\n",
    "Now let’s look at the code."
   ]
  },
  {
   "cell_type": "code",
   "execution_count": 158,
   "id": "c54d84c2",
   "metadata": {},
   "outputs": [],
   "source": [
    "@cudaq.kernel\n",
    "def ma_qaoa(qubit_num:int , num_layers:int  , thetas:list[float],\\\n",
    "\n",
    "            coef:list[complex] , words:list[cudaq.pauli_word]):\n",
    "    \n",
    "    #def U_bloc(p):\n",
    "        \n",
    "\n",
    "    qubits = cudaq.qvector(qubit_num)\n",
    "    h(qubits)\n",
    "\n",
    "    count = 0\n",
    "    for p in range(num_layers):\n",
    "\n",
    "        # for j in range(qubit_num):\n",
    "        #     rx(thetas[count] , qubits[j])\n",
    "        #     count += 1\n",
    "\n",
    "        #### MAL VQE Bloc #####\n",
    "        for j in range(qubit_num):\n",
    "            ry(thetas[count] , qubits[j])\n",
    "            count += 1\n",
    "\n",
    "        for i in range(qubit_num):\n",
    "            rz.ctrl(thetas[count]  , qubits[i], qubits[(i+1) % qubit_num])\n",
    "            #exp_pauli(thetas[count] * coef[i].real , qubits , words[i])\n",
    "            count += 1\n",
    "        #########################\n",
    "\n",
    "        for i in range(len(coef)):\n",
    "            exp_pauli(thetas[count] * coef[i].real , qubits , words[i])\n",
    "            count += 1\n",
    "        \n",
    "        \n",
    "\n",
    "        \n",
    "        "
   ]
  },
  {
   "cell_type": "code",
   "execution_count": 159,
   "id": "72059d5b",
   "metadata": {},
   "outputs": [
    {
     "name": "stdout",
     "output_type": "stream",
     "text": [
      "Total number of parameters: 31\n",
      "Initial parameters: [-0.09853596023734362, 0.3539901884713029, 0.18220761581801204, 0.07748619229192871, -0.27016232803946766, -0.2701812719266047, -0.3470803193783306, 0.2875940723715904, 0.07941554451502764, 0.16341982045438685, -0.3765320576843356, 0.36906633485039675, 0.2610998395196489, -0.22592833415455854, -0.24989408639446606, -0.24865351650102802, -0.15374778285038299, 0.019443655936234094, -0.053450257368529874, -0.16396824985936403, 0.08784905808564497, -0.2831408597373909, -0.16324921129277079, -0.10495916283695494, -0.03450255371396088, 0.22397667632317453, -0.23587565991292622, 0.011179701787044638, 0.07258223265541519, -0.35621701285938445, 0.08446552916624028]\n"
     ]
    }
   ],
   "source": [
    "# Specify the optimizer and its initials parameters\n",
    "optimizer = cudaq.optimizers.NelderMead()\n",
    "#optimizer = cudaq.optimizers.ScipyOptimizer('L-BFGS-B')\n",
    "#optimizer = cudaq.optimizers.COBYLA()\n",
    "\n",
    "\n",
    "# Specify random seeds\n",
    "np.random.seed(42)\n",
    "cudaq.set_random_seed(42)\n",
    "\n",
    "parameter_count = (2* qubit_num + len(coef)) * mal_num_layers\n",
    "\n",
    "print('Total number of parameters:', parameter_count)\n",
    "optimizer.initial_parameters = np.random.uniform(-np.pi/8 , np.pi/8 , parameter_count)\n",
    "#optimizer.initial_parameters = np.random.uniform(0 , np.pi/8 , parameters_count)\n",
    "\n",
    "print('Initial parameters:', optimizer.initial_parameters)"
   ]
  },
  {
   "cell_type": "code",
   "execution_count": 160,
   "id": "050f3b4b",
   "metadata": {},
   "outputs": [
    {
     "name": "stdout",
     "output_type": "stream",
     "text": [
      "optimal_expectation = -2.0057998916670714\n",
      "optimal_parameters = [1.570833165096354, 1.5710007763557443, 1.5715295862648633, -1.5714542653635304, -1.5711313546561336, -1.5709298347391512, 2.7637171875246263, -0.7200795795026005, -0.9684098944763089, 3.125786612165742, 2.9340506398931065, 3.1178667498616948, 3.0967921883152565, 2.977558021189067, -0.9253897682861363, 3.048039082355101, -1.1770425828434352, 0.26536841407705164, -0.6780832488313244, 1.086531246281984, 2.958368366085751, -0.500069886624064, 0.4973201144541141, -1.0183240227778154, 0.9018494314801098, 1.9775404893959743, 2.7558082833974917, 1.0026646772428502, 2.1106099540464136, 0.9619627347125308, 0.6352301618820348]\n"
     ]
    }
   ],
   "source": [
    "cost_values = []\n",
    "\n",
    "\n",
    "# def objective(parameters):\n",
    "#     cost = cudaq.observe(ma_qaoa, ham, qubit_num, mal_num_layers, parameters, coef,\n",
    "#                          words).expectation()\n",
    "#     cost_values.append(cost)\n",
    "#     return cost\n",
    "\n",
    "\n",
    "def objective_CVaRepsilon(parameters, K, epsilon):\n",
    "    \"\"\"\n",
    "    parameters : the parameters to be optimized\n",
    "    K          : number of evaluations to perform\n",
    "    epsilon    : proportion of the smallest costs to consider (between 0 and 1)\n",
    "    \"\"\"\n",
    "    costs = []\n",
    "    \n",
    "    for _ in range(K):\n",
    "        cost = cudaq.observe(ma_qaoa, ham, qubit_num, mal_num_layers, parameters, coef, words).expectation()\n",
    "        costs.append(cost)\n",
    "        cost_values.append(cost)  # if you want to keep track globally\n",
    "\n",
    "    # Sort in ascending order\n",
    "    sorted_costs = sorted(costs)\n",
    "\n",
    "    # Number of elements to consider\n",
    "    num_to_average = max(1, int(K * epsilon))\n",
    "\n",
    "    # Average of the smallest costs\n",
    "    new_cost = sum(sorted_costs[:num_to_average]) / num_to_average\n",
    "\n",
    "    return new_cost\n",
    "\n",
    "\n",
    "\n",
    "# Optimize!\n",
    "# optimal_expectation, optimal_parameters = optimizer.optimize(\n",
    "#     dimensions=parameter_count, function=objective)\n",
    "\n",
    "optimal_expectation, optimal_parameters = optimizer.optimize(\n",
    "    dimensions=parameter_count,\n",
    "    function=lambda params: objective_CVaRepsilon(params, K=10, epsilon=0.2))\n",
    "\n",
    "print('optimal_expectation =', optimal_expectation)\n",
    "print('optimal_parameters =', optimal_parameters)\n"
   ]
  },
  {
   "cell_type": "code",
   "execution_count": 161,
   "id": "bb7cf0b8",
   "metadata": {},
   "outputs": [
    {
     "name": "stdout",
     "output_type": "stream",
     "text": [
      "Counts: { 111000:20000 }\n",
      "\n",
      "The MWCP is given by the partition: 111000\n"
     ]
    }
   ],
   "source": [
    "shots = 20000\n",
    "\n",
    "counts = cudaq.sample(ma_qaoa,\n",
    "                      qubit_num,\n",
    "                      mal_num_layers,\n",
    "                      optimal_parameters,\n",
    "                      coef,\n",
    "                      words,\n",
    "                      shots_count=shots)\n",
    "\n",
    "print('Counts:', counts)\n",
    "\n",
    "print('The MWCP is given by the partition:', counts.most_probable())"
   ]
  },
  {
   "cell_type": "code",
   "execution_count": 162,
   "id": "6f87d94a",
   "metadata": {},
   "outputs": [
    {
     "data": {
      "image/png": "[encoded data removed]",
      "text/plain": [
       "<Figure size 640x480 with 1 Axes>"
      ]
     },
     "metadata": {},
     "output_type": "display_data"
    }
   ],
   "source": [
    "import matplotlib.pyplot as plt\n",
    "\n",
    "x_values = list(range(len(cost_values)))\n",
    "y_values = cost_values\n",
    "\n",
    "plt.plot(x_values, y_values)\n",
    "\n",
    "plt.xlabel(\"Epochs\")\n",
    "plt.ylabel(\"Cost Value\")\n",
    "plt.show()"
   ]
  },
  {
   "cell_type": "markdown",
   "id": "b56846d5",
   "metadata": {},
   "source": [
    "# Conclusion\n",
    "\n",
    "The two approaches are quite similar, but **MAL-QAOA** consistently yields better results than **DC-QAOA**. Even with 3 iterations of DC-QAOA, MAL-QAOA still outperforms it. Of course, since the problem is small, both methods eventually find the same optimal solution. However, the **expectation value** obtained with MAL-QAOA is always lower than that of DC-QAOA.\n",
    "\n",
    "I believe this difference comes from the **entangling layers** used in MAL-QAOA, which is the main architectural distinction between the two algorithms. This improved performance, however, comes with the trade-off of increased **computation time**.\n"
   ]
  }
 ],
 "metadata": {
  "kernelspec": {
   "display_name": "cudaq_env",
   "language": "python",
   "name": "python3"
  },
  "language_info": {
   "codemirror_mode": {
    "name": "ipython",
    "version": 3
   },
   "file_extension": ".py",
   "mimetype": "text/x-python",
   "name": "python",
   "nbconvert_exporter": "python",
   "pygments_lexer": "ipython3",
   "version": "3.11.8"
  }
 },
 "nbformat": 4,
 "nbformat_minor": 5
}
